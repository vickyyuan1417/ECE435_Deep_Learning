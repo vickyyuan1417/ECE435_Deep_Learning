{
 "cells": [
  {
   "cell_type": "code",
   "execution_count": 144,
   "id": "82644a9a",
   "metadata": {},
   "outputs": [
    {
     "name": "stdout",
     "output_type": "stream",
     "text": [
      "[[ 0.  0.  0.  0.  0.]\n",
      " [ 1.  2.  3.  4.  0.]\n",
      " [ 2.  4.  6.  8.  0.]\n",
      " [ 8. 11. 14. 17.  0.]\n",
      " [ 9. 13. 17. 21.  0.]\n",
      " [10. 15. 20. 25.  0.]\n",
      " [10. 15. 20. 25.  0.]\n",
      " [11. 17. 23. 29.  0.]]\n",
      "0.0\n"
     ]
    }
   ],
   "source": [
    "# Python program to find maximum prizes in a 4*n matrix Q\n",
    "# such that no two squares are adjacent. \n",
    "import numpy as np\n",
    "\n",
    "def maxPrizes(Q, n) :\n",
    "    \n",
    "    def get_key(val):\n",
    "        for key, value in P.items():\n",
    "             if val == value:\n",
    "                return key\n",
    "            \n",
    "    #base case, P is a dic containing 8 cases with its binary combination. OPT is a 8 * n matrix\n",
    "    P = { 0:0, 1:1, 2:2, 3:4, 4:5, 5:8, 6:9, 7:10 }\n",
    "    PATT = 0\n",
    "    OPT = np.zeros((8, n))\n",
    "    for i in range(n-1) :\n",
    "        for p in P.values():\n",
    "            for k in P.values():\n",
    "                #find the total feasible prizes in the ith row\n",
    "                if ((k & p) == 0):\n",
    "                    if p == 1:\n",
    "                        PATT = Q[3][i]\n",
    "                    elif p == 2:\n",
    "                        PATT = Q[2][i]\n",
    "                    elif p == 4:\n",
    "                        PATT = Q[1][i]\n",
    "                    elif p == 5:\n",
    "                        PATT = Q[1][i] + Q[3][i]\n",
    "                    elif p == 8:\n",
    "                        PATT = Q[0][i]\n",
    "                    elif p == 9:\n",
    "                        PATT = Q[0][i] + Q[3][i]\n",
    "                    elif p == 10:\n",
    "                        PATT = Q[0][i] + Q[2][i]\n",
    "                    else:\n",
    "                        PATT = 0\n",
    "                #Iteration over OPT and PATT \n",
    "#                 print(PATT)\n",
    "                OPT[get_key(p)][i] = max((OPT[get_key(k)][i] + PATT), OPT[get_key(p)][i])\n",
    "                PATT = 0\n",
    "    #return the max value of prizes among all OPT\n",
    "    print(OPT)\n",
    "    return max((OPT[m-1][n-1]) for m in range(8))\n",
    "\n",
    "\n",
    "if __name__ == \"__main__\" : \n",
    " \n",
    "    Q =   [ [ 1, 2, 3, 4, 5], \n",
    "            [ 6, 7, 8, 9, 10],\n",
    "            [ 1, 2, 3, 4, 5],\n",
    "            [ 1, 2, 3, 4, 5]]\n",
    "    n = 5\n",
    "    print(maxPrizes(Q, n))\n"
   ]
  },
  {
   "cell_type": "code",
   "execution_count": 48,
   "id": "bfa2a14b",
   "metadata": {},
   "outputs": [
    {
     "name": "stdout",
     "output_type": "stream",
     "text": [
      "8\n"
     ]
    }
   ],
   "source": [
    "a = 8\n",
    "b = 9\n",
    "print(a & b)"
   ]
  },
  {
   "cell_type": "code",
   "execution_count": null,
   "id": "ab4a561c",
   "metadata": {},
   "outputs": [],
   "source": []
  }
 ],
 "metadata": {
  "kernelspec": {
   "display_name": "Python 3",
   "language": "python",
   "name": "python3"
  },
  "language_info": {
   "codemirror_mode": {
    "name": "ipython",
    "version": 3
   },
   "file_extension": ".py",
   "mimetype": "text/x-python",
   "name": "python",
   "nbconvert_exporter": "python",
   "pygments_lexer": "ipython3",
   "version": "3.8.8"
  }
 },
 "nbformat": 4,
 "nbformat_minor": 5
}
