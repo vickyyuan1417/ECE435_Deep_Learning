{
 "cells": [
  {
   "cell_type": "code",
   "execution_count": 148,
   "id": "82644a9a",
   "metadata": {},
   "outputs": [
    {
     "name": "stdout",
     "output_type": "stream",
     "text": [
      "[[ 0.  0.  0.  0.  0.]\n",
      " [ 1.  2.  3.  4.  0.]\n",
      " [ 0.  0.  0.  0.  0.]\n",
      " [ 6.  7.  8.  9.  0.]\n",
      " [ 7.  9. 11. 13.  0.]\n",
      " [ 0.  0.  0.  0.  0.]\n",
      " [ 0.  0.  0.  0.  0.]\n",
      " [ 0.  0.  0.  0.  0.]]\n",
      "0.0\n"
     ]
    }
   ],
   "source": [
    "# Python program to find maximum prizes in a 4*n matrix Q\n",
    "# such that no two squares are adjacent. \n",
    "import numpy as np\n",
    "\n",
    "def maxPrizes(Q, n) :\n",
    "    \n",
    "    def get_key(val):\n",
    "        for key, value in P.items():\n",
    "             if val == value:\n",
    "                return key\n",
    "            \n",
    "    #base case, P is a dic containing 8 cases with its binary combination. OPT is a 8 * n matrix\n",
    "    P = { 0:0, 1:1, 2:2, 3:4, 4:5, 5:8, 6:9, 7:10 }\n",
    "    PATT = 0\n",
    "    OPT = np.zeros((8, n))\n",
    "    for i in range(n-1) :\n",
    "        for p in P.values():\n",
    "            for k in P.values():\n",
    "                #find the total feasible prizes in the ith row\n",
    "                if ((k & p) == 0):\n",
    "                    if p == 1:\n",
    "                        PATT = Q[3][i]\n",
    "                    elif p == 2:\n",
    "                        PATT = Q[2][i]\n",
    "                    elif p == 4:\n",
    "                        PATT = Q[1][i]\n",
    "                    elif p == 5:\n",
    "                        PATT = Q[1][i] + Q[3][i]\n",
    "                    elif p == 8:\n",
    "                        PATT = Q[0][i]\n",
    "                    elif p == 9:\n",
    "                        PATT = Q[0][i] + Q[3][i]\n",
    "                    elif p == 10:\n",
    "                        PATT = Q[0][i] + Q[2][i]\n",
    "                    else:\n",
    "                        PATT = 0\n",
    "                #Iteration over OPT and PATT \n",
    "#                 print(PATT)\n",
    "                OPT[get_key(p)][i] = max((OPT[get_key(k)][i-1] + PATT), OPT[get_key(p)][i-1])\n",
    "                PATT = 0\n",
    "    #return the max value of prizes among all OPT\n",
    "    print(OPT)\n",
    "    return max((OPT[m][n-1]) for m in range(8))\n",
    "\n",
    "\n",
    "if __name__ == \"__main__\" : \n",
    " \n",
    "    Q =   [ [ 1, 2, 3, 4, 5], \n",
    "            [ 6, 7, 8, 9, 10],\n",
    "            [ 1, 2, 3, 4, 5],\n",
    "            [ 1, 2, 3, 4, 5]]\n",
    "    n = 5\n",
    "    print(maxPrizes(Q, n))\n"
   ]
  },
  {
   "cell_type": "code",
   "execution_count": 48,
   "id": "bfa2a14b",
   "metadata": {},
   "outputs": [
    {
     "name": "stdout",
     "output_type": "stream",
     "text": [
      "8\n"
     ]
    }
   ],
   "source": [
    "a = 8\n",
    "b = 9\n",
    "print(a & b)"
   ]
  },
  {
   "cell_type": "code",
   "execution_count": 17,
   "id": "ab4a561c",
   "metadata": {},
   "outputs": [
    {
     "name": "stdout",
     "output_type": "stream",
     "text": [
      "5.0\n"
     ]
    }
   ],
   "source": [
    "import numpy as np\n",
    "\n",
    "n = 10\n",
    "r = [1,5,1]\n",
    "\n",
    "def min_access_time() :\n",
    "    OPT = np.zeros((n,n,len(r)+1))\n",
    "    for i in range(n-1,-1,-1):\n",
    "        for j in range(n):\n",
    "            for p in range(len(r)-1,-1,-1):\n",
    "                OPT[i][j][p] = min((OPT[int(r[p])][j][p+1] + \n",
    "                                    abs(i - int(r[p]))), \n",
    "                                   (OPT[i][int(r[p])][p+1] + \n",
    "                                    abs(j - int(r[p]))))\n",
    "    print(OPT[0][n-1][0])  \n",
    "min_access_time()"
   ]
  },
  {
   "cell_type": "code",
   "execution_count": 14,
   "id": "7599116c",
   "metadata": {},
   "outputs": [
    {
     "ename": "IndexError",
     "evalue": "index 4 is out of bounds for axis 0 with size 4",
     "output_type": "error",
     "traceback": [
      "\u001b[1;31m---------------------------------------------------------------------------\u001b[0m",
      "\u001b[1;31mIndexError\u001b[0m                                Traceback (most recent call last)",
      "\u001b[1;32m<ipython-input-14-7d54a5c63d2b>\u001b[0m in \u001b[0;36m<module>\u001b[1;34m\u001b[0m\n\u001b[0;32m     13\u001b[0m                 \u001b[0mOPT\u001b[0m\u001b[1;33m[\u001b[0m\u001b[0mi\u001b[0m\u001b[1;33m]\u001b[0m\u001b[1;33m[\u001b[0m\u001b[0mj\u001b[0m\u001b[1;33m]\u001b[0m \u001b[1;33m=\u001b[0m \u001b[0mM\u001b[0m\u001b[1;33m[\u001b[0m\u001b[0mi\u001b[0m\u001b[1;33m]\u001b[0m\u001b[1;33m[\u001b[0m\u001b[0mj\u001b[0m\u001b[1;33m]\u001b[0m \u001b[1;33m+\u001b[0m \u001b[0mOPT\u001b[0m\u001b[1;33m[\u001b[0m\u001b[0mi\u001b[0m\u001b[1;33m]\u001b[0m\u001b[1;33m[\u001b[0m\u001b[0mj\u001b[0m \u001b[1;33m-\u001b[0m \u001b[1;36m1\u001b[0m\u001b[1;33m]\u001b[0m\u001b[1;33m\u001b[0m\u001b[1;33m\u001b[0m\u001b[0m\n\u001b[0;32m     14\u001b[0m     \u001b[0mprint\u001b[0m\u001b[1;33m(\u001b[0m\u001b[0mOPT\u001b[0m\u001b[1;33m[\u001b[0m\u001b[1;36m0\u001b[0m\u001b[1;33m]\u001b[0m\u001b[1;33m[\u001b[0m\u001b[1;36m0\u001b[0m\u001b[1;33m]\u001b[0m\u001b[1;33m)\u001b[0m\u001b[1;33m\u001b[0m\u001b[1;33m\u001b[0m\u001b[0m\n\u001b[1;32m---> 15\u001b[1;33m \u001b[0mmax_cake\u001b[0m\u001b[1;33m(\u001b[0m\u001b[1;33m)\u001b[0m\u001b[1;33m\u001b[0m\u001b[1;33m\u001b[0m\u001b[0m\n\u001b[0m",
      "\u001b[1;32m<ipython-input-14-7d54a5c63d2b>\u001b[0m in \u001b[0;36mmax_cake\u001b[1;34m()\u001b[0m\n\u001b[0;32m      7\u001b[0m \u001b[0mOPT\u001b[0m \u001b[1;33m=\u001b[0m \u001b[0mnp\u001b[0m\u001b[1;33m.\u001b[0m\u001b[0mzeros\u001b[0m\u001b[1;33m(\u001b[0m\u001b[1;33m(\u001b[0m\u001b[0mn\u001b[0m\u001b[1;33m,\u001b[0m\u001b[0mn\u001b[0m\u001b[1;33m)\u001b[0m\u001b[1;33m)\u001b[0m\u001b[1;33m\u001b[0m\u001b[1;33m\u001b[0m\u001b[0m\n\u001b[0;32m      8\u001b[0m \u001b[1;32mdef\u001b[0m \u001b[0mmax_cake\u001b[0m\u001b[1;33m(\u001b[0m\u001b[1;33m)\u001b[0m\u001b[1;33m:\u001b[0m\u001b[1;33m\u001b[0m\u001b[1;33m\u001b[0m\u001b[0m\n\u001b[1;32m----> 9\u001b[1;33m     \u001b[0mOPT\u001b[0m\u001b[1;33m[\u001b[0m\u001b[1;36m0\u001b[0m\u001b[1;33m]\u001b[0m\u001b[1;33m[\u001b[0m\u001b[0mn\u001b[0m\u001b[1;33m]\u001b[0m \u001b[1;33m=\u001b[0m \u001b[0mn\u001b[0m\u001b[1;33m+\u001b[0m\u001b[1;36m1\u001b[0m\u001b[1;33m\u001b[0m\u001b[1;33m\u001b[0m\u001b[0m\n\u001b[0m\u001b[0;32m     10\u001b[0m     \u001b[1;32mfor\u001b[0m \u001b[0mi\u001b[0m \u001b[1;32min\u001b[0m \u001b[0mrange\u001b[0m\u001b[1;33m(\u001b[0m\u001b[1;36m0\u001b[0m\u001b[1;33m,\u001b[0m\u001b[0mn\u001b[0m\u001b[1;33m)\u001b[0m\u001b[1;33m:\u001b[0m\u001b[1;33m\u001b[0m\u001b[1;33m\u001b[0m\u001b[0m\n\u001b[0;32m     11\u001b[0m         \u001b[1;32mfor\u001b[0m \u001b[0mj\u001b[0m \u001b[1;32min\u001b[0m \u001b[0mrange\u001b[0m\u001b[1;33m(\u001b[0m\u001b[0mn\u001b[0m\u001b[1;33m,\u001b[0m\u001b[0mi\u001b[0m\u001b[1;33m)\u001b[0m\u001b[1;33m:\u001b[0m\u001b[1;33m\u001b[0m\u001b[1;33m\u001b[0m\u001b[0m\n",
      "\u001b[1;31mIndexError\u001b[0m: index 4 is out of bounds for axis 0 with size 4"
     ]
    }
   ],
   "source": [
    "import numpy as np\n",
    "M = [[0,0,1,1],\n",
    "     [0,0,0,1],\n",
    "     [1,0,0,0],\n",
    "     [1,1,0,0]]\n",
    "n = 4\n",
    "OPT = np.zeros((n,n))\n",
    "def max_cake():\n",
    "    OPT[0][n] = n+1\n",
    "    for i in range(0,n):\n",
    "        for j in range(n,i):\n",
    "            if (i <= j):\n",
    "                OPT[i][j] = M[i][j] + OPT[i][j - 1]\n",
    "    print(OPT[0][0])\n",
    "max_cake()"
   ]
  },
  {
   "cell_type": "code",
   "execution_count": null,
   "id": "a5834cda",
   "metadata": {},
   "outputs": [],
   "source": []
  },
  {
   "cell_type": "code",
   "execution_count": null,
   "id": "45dc6095",
   "metadata": {},
   "outputs": [],
   "source": []
  }
 ],
 "metadata": {
  "kernelspec": {
   "display_name": "Python 3",
   "language": "python",
   "name": "python3"
  },
  "language_info": {
   "codemirror_mode": {
    "name": "ipython",
    "version": 3
   },
   "file_extension": ".py",
   "mimetype": "text/x-python",
   "name": "python",
   "nbconvert_exporter": "python",
   "pygments_lexer": "ipython3",
   "version": "3.8.8"
  }
 },
 "nbformat": 4,
 "nbformat_minor": 5
}
