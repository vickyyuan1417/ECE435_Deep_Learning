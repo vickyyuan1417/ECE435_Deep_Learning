{
 "cells": [
  {
   "cell_type": "code",
   "execution_count": null,
   "metadata": {
    "collapsed": false
   },
   "outputs": [],
   "source": [
    "# This file is associated with the book\n",
    "# \"Machine Learning Refined\", Cambridge University Press, 2016.\n",
    "# by Jeremy Watt, Reza Borhani, and Aggelos Katsaggelos.\n",
    "\n",
    "import numpy as np\n",
    "import matplotlib.pyplot as plt\n",
    "from mpl_toolkits.mplot3d import Axes3D\n",
    "import pandas as pd\n",
    "%matplotlib inline\n",
    "\n",
    "# import the dataset\n",
    "data = np.asarray(pd.read_csv('extended_sinusoid_data.csv',header = None))\n",
    "x = data[:,0]\n",
    "x.shape = (len(x),1)\n",
    "y = data[:,1]\n",
    "y.shape = (len(y),1)\n",
    "\n",
    "# make figure for plotting\n",
    "fig = plt.figure(num=None, figsize=(5, 5), dpi=80, facecolor='w', edgecolor='k')\n",
    "ax = fig.add_subplot(111,projection='3d')\n",
    "\n",
    "### YOUR CODE GOES HERE ###\n",
    "# produce surface and plot\n"
   ]
  }
 ],
 "metadata": {
  "anaconda-cloud": {},
  "kernelspec": {
   "display_name": "Python 3",
   "language": "python",
   "name": "python3"
  },
  "language_info": {
   "codemirror_mode": {
    "name": "ipython",
    "version": 3
   },
   "file_extension": ".py",
   "mimetype": "text/x-python",
   "name": "python",
   "nbconvert_exporter": "python",
   "pygments_lexer": "ipython3",
   "version": "3.5.2"
  }
 },
 "nbformat": 4,
 "nbformat_minor": 1
}
