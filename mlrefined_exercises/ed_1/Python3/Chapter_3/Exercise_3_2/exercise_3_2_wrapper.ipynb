{
 "cells": [
  {
   "cell_type": "code",
   "execution_count": null,
   "metadata": {
    "collapsed": false
   },
   "outputs": [],
   "source": [
    "# This file is associated with the book\n",
    "# \"Machine Learning Refined\", Cambridge University Press, 2016.\n",
    "# by Jeremy Watt, Reza Borhani, and Aggelos Katsaggelos.\n",
    "\n",
    "import pandas as pd\n",
    "import numpy as np\n",
    "import matplotlib.pyplot as plt\n",
    "import pandas as pd\n",
    "\n",
    "# import the dataset\n",
    "data = np.asarray(pd.read_csv('kleibers_law_data.csv'))\n",
    "x = data[:,0]\n",
    "x.shape = (len(x),1)\n",
    "y = data[:,1]\n",
    "y.shape = (len(y),1)\n",
    "\n",
    "# log-transform data\n",
    "x = np.log(x)\n",
    "y = np.log(y)\n",
    "\n",
    "# pad input with ones\n",
    "o = np.ones((len(x),1))\n",
    "x_new = np.concatenate((o,x),axis = 1)\n",
    "\n",
    "### TODO: YOUR CODE GOES HERE ###\n",
    "# solve linear system of equations for regression fit\n",
    "\n",
    "w =      # weights returned by solving linear system\n",
    "\n",
    "# print out predicted amount of student debt in 2050\n",
    "ten_kg_animal_metrate = w[0] + w[1]*np.log(10)\n",
    "print ('a 10kg animal requires ' + str(np.exp(ten_kg_animal_metrate[0]* 4.18)) + ' calories')\n",
    "\n",
    "# plot data with linear fit - this is optional\n",
    "s = np.linspace(min(x)[0],max(x)[0])\n",
    "t = w[0] + w[1]*s\n",
    "plt.plot(s,t,linewidth = 3,color = 'r')\n",
    "plt.scatter(x,y,linewidth = 1)\n",
    "plt.xlabel('log of mass (in kgs)')\n",
    "plt.ylabel('log of metabolic rate (in Js)')"
   ]
  }
 ],
 "metadata": {
  "anaconda-cloud": {},
  "kernelspec": {
   "display_name": "Python 3",
   "language": "python",
   "name": "python3"
  },
  "language_info": {
   "codemirror_mode": {
    "name": "ipython",
    "version": 3
   },
   "file_extension": ".py",
   "mimetype": "text/x-python",
   "name": "python",
   "nbconvert_exporter": "python",
   "pygments_lexer": "ipython3",
   "version": "3.5.2"
  }
 },
 "nbformat": 4,
 "nbformat_minor": 0
}
