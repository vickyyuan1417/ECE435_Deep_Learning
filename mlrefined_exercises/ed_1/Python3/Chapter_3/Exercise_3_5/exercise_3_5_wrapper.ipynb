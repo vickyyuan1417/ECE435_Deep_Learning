{
 "cells": [
  {
   "cell_type": "code",
   "execution_count": null,
   "metadata": {
    "collapsed": false
   },
   "outputs": [],
   "source": [
    "# This file is associated with the book\n",
    "# \"Machine Learning Refined\", Cambridge University Press, 2016.\n",
    "# by Jeremy Watt, Reza Borhani, and Aggelos Katsaggelos.\n",
    "\n",
    "import pandas as pd\n",
    "import numpy as np\n",
    "import matplotlib.pyplot as plt\n",
    "import pandas as pd\n",
    "\n",
    "# import the dataset\n",
    "data = np.asarray(pd.read_csv('sinusoid_example_data.csv',header = None))\n",
    "x = data[:,0]\n",
    "x.shape = (len(x),1)\n",
    "y = data[:,1]\n",
    "y.shape = (len(y),1)\n",
    "\n",
    "### TODO: YOUR CODE GOES HERE ###\n",
    "# transform input features\n",
    "f = \n",
    "\n",
    "# pad with ones -- > to setup linear system\n",
    "o = np.ones((len(f),1))\n",
    "f_new = np.concatenate((o,f),axis = 1)\n",
    "\n",
    "# set up linear system to solve for weights\n",
    "\n",
    "\n",
    "# solve linear system for weights\n",
    "w = \n",
    "\n",
    "### plot data with sinusoidal fit in original space and corresponding linear fit in transformed feature space \n",
    "fig = plt.figure(figsize = (16,5))\n",
    "ax1 = fig.add_subplot(1,2,1)  # panel for original space\n",
    "ax2 = fig.add_subplot(1,2,2)  # panel for transformed feature space\n",
    "\n",
    "# plot data and fit in original space\n",
    "ax1.scatter(x,y,linewidth = 3)\n",
    "s = np.linspace(np.min(x),np.max(x))\n",
    "t = w[0] + w[1]*np.sin(2*np.pi*s)\n",
    "ax1.plot(s,t,linewidth = 3,color = 'r')\n",
    "ax1.set_xlabel('x',fontsize =18)\n",
    "ax1.set_ylabel('y',rotation = 0,fontsize = 18)\n",
    "ax1.set_title('original space',fontsize = 22)\n",
    "\n",
    "# plot data and fit in transformed feature space\n",
    "ax2.scatter(f,y,linewidth = 3)\n",
    "s = np.linspace(np.min(f),np.max(f))\n",
    "t = w[0] + w[1]*s\n",
    "ax2.plot(s,t,linewidth = 3,color = 'r')\n",
    "ax2.set_xlabel('sin(2*pi*x)',fontsize =18)\n",
    "ax2.set_ylabel('y',rotation = 0,fontsize = 18)\n",
    "ax2.set_title('transformed feature space',fontsize = 22);"
   ]
  }
 ],
 "metadata": {
  "anaconda-cloud": {},
  "kernelspec": {
   "display_name": "Python 2",
   "language": "python",
   "name": "python2"
  },
  "language_info": {
   "codemirror_mode": {
    "name": "ipython",
    "version": 2
   },
   "file_extension": ".py",
   "mimetype": "text/x-python",
   "name": "python",
   "nbconvert_exporter": "python",
   "pygments_lexer": "ipython2",
   "version": "2.7.12"
  }
 },
 "nbformat": 4,
 "nbformat_minor": 0
}
