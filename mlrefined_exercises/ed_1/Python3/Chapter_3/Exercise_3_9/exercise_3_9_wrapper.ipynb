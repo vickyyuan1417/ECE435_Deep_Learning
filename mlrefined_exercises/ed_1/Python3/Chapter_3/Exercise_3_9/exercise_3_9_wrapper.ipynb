{
 "cells": [
  {
   "cell_type": "code",
   "execution_count": 1,
   "metadata": {
    "collapsed": false
   },
   "outputs": [
    {
     "data": {
      "text/plain": [
       "(array([-1.48341]), array([ 2.0512]))"
      ]
     },
     "execution_count": 1,
     "metadata": {},
     "output_type": "execute_result"
    },
    {
     "data": {
      "image/png": "[encoded data removed]",
      "text/plain": [
       "<matplotlib.figure.Figure at 0x7fab70547630>"
      ]
     },
     "metadata": {},
     "output_type": "display_data"
    }
   ],
   "source": [
    "# This file is associated with the book\n",
    "# \"Machine Learning Refined\", Cambridge University Press, 2016.\n",
    "# by Jeremy Watt, Reza Borhani, and Aggelos Katsaggelos.\n",
    "\n",
    "import numpy as np\n",
    "import matplotlib.pyplot as plt\n",
    "import pandas as pd\n",
    "%matplotlib inline\n",
    "\n",
    "# import the dataset\n",
    "data = np.asarray(pd.read_csv('asteroid_data.csv',header = None))\n",
    "x = data[:,0]\n",
    "x.shape = (len(x),1)\n",
    "y = data[:,1]\n",
    "y.shape = (len(y),1)\n",
    "\n",
    "### TODO: YOUR CODE GOES HERE ###\n",
    "# transform input and ouptut\n",
    "x_transformed = \n",
    "y_transformed = \n",
    "\n",
    "# pad with ones -- > to setup linear system\n",
    "o = np.ones((len(x),1))\n",
    "x_new = np.concatenate((x_transformed,y_transformed),axis = 1)\n",
    "\n",
    "# # set up linear system to solve for weights\n",
    "\n",
    "\n",
    "# solve linear system for weights\n",
    "w = \n",
    "\n",
    "\n",
    "# plot data and fit - here we use matplotlib's contour function to get the elliptical fit right in the plot\n",
    "plt.scatter(x,y,linewidth = 3)\n",
    "s = np.linspace(-7,7,200)\n",
    "e,r = np.meshgrid(s,s)\n",
    "z = e*e*w[0] + r*r*w[1] - 1\n",
    "plt.contour(e,r,z,levels = [0])\n",
    "\n",
    "# clean up plot\n",
    "plt.xlabel('x1',fontsize =14)\n",
    "plt.ylabel('x2',rotation = 0,fontsize = 14)\n",
    "plt.xlim([min(x)-1,max(x)+1])\n",
    "plt.ylim([min(y)-1,max(y)+1])"
   ]
  }
 ],
 "metadata": {
  "anaconda-cloud": {},
  "kernelspec": {
   "display_name": "Python 3",
   "language": "python",
   "name": "python3"
  },
  "language_info": {
   "codemirror_mode": {
    "name": "ipython",
    "version": 3
   },
   "file_extension": ".py",
   "mimetype": "text/x-python",
   "name": "python",
   "nbconvert_exporter": "python",
   "pygments_lexer": "ipython3",
   "version": "3.5.2"
  }
 },
 "nbformat": 4,
 "nbformat_minor": 1
}
