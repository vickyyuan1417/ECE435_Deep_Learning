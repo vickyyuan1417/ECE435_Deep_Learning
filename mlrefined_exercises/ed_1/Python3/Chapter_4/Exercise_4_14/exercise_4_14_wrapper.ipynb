{
 "cells": [
  {
   "cell_type": "code",
   "execution_count": null,
   "metadata": {
    "collapsed": false
   },
   "outputs": [],
   "source": [
    "# This file is associated with the book\n",
    "# \"Machine Learning Refined\", Cambridge University Press, 2016.\n",
    "# by Jeremy Watt, Reza Borhani, and Aggelos Katsaggelos.\n",
    "\n",
    "import numpy as np\n",
    "import matplotlib.pyplot as plt\n",
    "import pandas as pd"
   ]
  },
  {
   "cell_type": "markdown",
   "metadata": {},
   "source": [
    "A simple data loading function."
   ]
  },
  {
   "cell_type": "code",
   "execution_count": null,
   "metadata": {
    "collapsed": true
   },
   "outputs": [],
   "source": [
    "# import training data \n",
    "def load_data(csvname):\n",
    "    # load in data\n",
    "    data = np.asarray(pd.read_csv(csvname))\n",
    "\n",
    "    # import data and reshape appropriately\n",
    "    X = data[:,0:-1]\n",
    "    y = data[:,-1]\n",
    "    y.shape = (len(y),1)\n",
    "    \n",
    "    # pad data with ones for more compact gradient computation\n",
    "    o = np.ones((np.shape(X)[0],1))\n",
    "    X = np.concatenate((o,X),axis = 1)\n",
    "    X = X.T\n",
    "    \n",
    "    return X,y"
   ]
  },
  {
   "cell_type": "markdown",
   "metadata": {},
   "source": [
    "Our one versus all main loop - where we loop through each two-class subproblem and learn its respective weights."
   ]
  },
  {
   "cell_type": "code",
   "execution_count": null,
   "metadata": {
    "collapsed": true
   },
   "outputs": [],
   "source": [
    "### TODO: COMPLETE ONE VERSUS ALL SNIPPET BELOW ###\n",
    "# learn all C separators\n",
    "def learn_separators(X,y):\n",
    "    W = []\n",
    "    num_classes = np.size(np.unique(y))\n",
    "    for i in range(0,num_classes):\n",
    "\n",
    "        \n",
    "        \n",
    "        W.append(w)\n",
    "    W = np.asarray(W)\n",
    "    W.shape = (np.shape(W)[0],np.shape(W)[1])\n",
    "    W = W.T\n",
    "    return W"
   ]
  },
  {
   "cell_type": "markdown",
   "metadata": {},
   "source": [
    "Up next - functionality for running Newton's method using the squared margin cost."
   ]
  },
  {
   "cell_type": "code",
   "execution_count": null,
   "metadata": {
    "collapsed": true
   },
   "outputs": [],
   "source": [
    "### TODO: COPY YOUR NEWTON'S METHOD CODE HERE FROM EXERCISE 4.8 ###\n",
    "\n"
   ]
  },
  {
   "cell_type": "code",
   "execution_count": null,
   "metadata": {
    "collapsed": true
   },
   "outputs": [],
   "source": [
    "# function for counting the number of misclassifications\n",
    "def count_misclasses(X,y,w):\n",
    "    y_pred = np.sign(np.dot(X.T,w))\n",
    "    num_misclassed = len(y) - len([i for i, j in zip(y, y_pred) if i == j])\n",
    "    return num_misclassed"
   ]
  },
  {
   "cell_type": "markdown",
   "metadata": {},
   "source": [
    "Plotting functinos to show the dataset and multiclass separator learned to the data."
   ]
  },
  {
   "cell_type": "code",
   "execution_count": null,
   "metadata": {
    "collapsed": true
   },
   "outputs": [],
   "source": [
    "# plotting function for the data and individual separators\n",
    "def plot_data_and_subproblem_separators(X,y,W):\n",
    "    # initialize figure, plot data, and dress up panels with axes labels etc.\n",
    "    num_classes = np.size(np.unique(y))\n",
    "    color_opts = np.array([[1,0,0.4], [ 0, 0.4, 1],[0, 1, 0.5],[1, 0.7, 0.5],[0.7, 0.6, 0.5]])\n",
    "    f,axs = plt.subplots(1,num_classes + 1,facecolor = 'white',figsize = (10,2))\n",
    "\n",
    "    r = np.linspace(0,1,150)\n",
    "    for a in range(0,num_classes):\n",
    "        # color current class\n",
    "        axs[a].scatter(X[1,],X[2,], s = 30,color = '0.75')\n",
    "        s = np.argwhere(y == a+1)\n",
    "        s = s[:,0]\n",
    "        axs[a].scatter(X[1,s],X[2,s], s = 30,color = color_opts[a,:])\n",
    "        axs[num_classes].scatter(X[1,s],X[2,s], s = 30,color = color_opts[a,:])\n",
    "\n",
    "        # draw subproblem separator\n",
    "        z = -W[0,a]/W[2,a] - W[1,a]/W[2,a]*r\n",
    "        axs[a].plot(r,z,'-k',linewidth = 2,color = color_opts[a,:])\n",
    "\n",
    "        # dress panel correctly\n",
    "        axs[a].set_xlim(0,1)\n",
    "        axs[a].set_ylim(0,1)\n",
    "        axs[a].axis('off')\n",
    "    axs[num_classes].axis('off')\n",
    "\n",
    "    return axs\n",
    "\n",
    "# fuse individual subproblem separators into one joint rule\n",
    "def plot_joint_separator(W,axs,num_classes):\n",
    "    r = np.linspace(0,1,300)\n",
    "    s,t = np.meshgrid(r,r)\n",
    "    s = np.reshape(s,(np.size(s),1))\n",
    "    t = np.reshape(t,(np.size(t),1))\n",
    "    h = np.concatenate((np.ones((np.size(s),1)),s,t),1)\n",
    "    f = np.dot(W.T,h.T)\n",
    "    z = np.argmax(f,0)\n",
    "    f.shape = (np.size(f),1)\n",
    "    s.shape = (np.size(r),np.size(r))\n",
    "    t.shape = (np.size(r),np.size(r))\n",
    "    z.shape = (np.size(r),np.size(r))\n",
    "\n",
    "    for i in range(0,num_classes + 1):\n",
    "        axs[num_classes].contour(s,t,z,num_classes-1,colors = 'k',linewidths = 2.25)"
   ]
  },
  {
   "cell_type": "markdown",
   "metadata": {},
   "source": [
    "With everything defined lets run all."
   ]
  },
  {
   "cell_type": "code",
   "execution_count": null,
   "metadata": {
    "collapsed": false
   },
   "outputs": [],
   "source": [
    "# load the data\n",
    "X,y = load_data('four_class_data.csv')\n",
    "\n",
    "# learn all C vs notC separators\n",
    "W = learn_separators(X,y)\n",
    "\n",
    "# plot data and each subproblem 2-class separator\n",
    "axs = plot_data_and_subproblem_separators(X,y,W)\n",
    "\n",
    "# plot fused separator\n",
    "plot_joint_separator(W,axs,np.size(np.unique(y)))\n",
    "\n",
    "plt.show()"
   ]
  }
 ],
 "metadata": {
  "anaconda-cloud": {},
  "kernelspec": {
   "display_name": "Python 3",
   "language": "python",
   "name": "python3"
  },
  "language_info": {
   "codemirror_mode": {
    "name": "ipython",
    "version": 3
   },
   "file_extension": ".py",
   "mimetype": "text/x-python",
   "name": "python",
   "nbconvert_exporter": "python",
   "pygments_lexer": "ipython3",
   "version": "3.5.2"
  }
 },
 "nbformat": 4,
 "nbformat_minor": 1
}
