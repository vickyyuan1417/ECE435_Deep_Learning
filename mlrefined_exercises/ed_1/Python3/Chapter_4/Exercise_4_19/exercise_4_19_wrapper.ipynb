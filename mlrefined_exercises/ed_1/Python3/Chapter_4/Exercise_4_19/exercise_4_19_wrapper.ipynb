{
 "cells": [
  {
   "cell_type": "code",
   "execution_count": null,
   "metadata": {
    "collapsed": false
   },
   "outputs": [],
   "source": [
    "# This file is associated with the book\n",
    "# \"Machine Learning Refined\", Cambridge University Press, 2016.\n",
    "# by Jeremy Watt, Reza Borhani, and Aggelos Katsaggelos.\n",
    "\n",
    "import numpy as np\n",
    "import matplotlib.pyplot as plt\n",
    "import pandas as pd"
   ]
  },
  {
   "cell_type": "markdown",
   "metadata": {},
   "source": [
    "A simple data loading function."
   ]
  },
  {
   "cell_type": "code",
   "execution_count": null,
   "metadata": {
    "collapsed": true
   },
   "outputs": [],
   "source": [
    "# import training data \n",
    "def load_data(csvname):\n",
    "    # load in data\n",
    "    data = np.asarray(pd.read_csv(csvname))\n",
    "\n",
    "    # import data and reshape appropriately\n",
    "    X = data[:,0:-1]\n",
    "    y = data[:,-1]\n",
    "    y.shape = (len(y),1)\n",
    "    \n",
    "    # pad data with ones for more compact gradient computation\n",
    "    o = np.ones((np.shape(X)[0],1))\n",
    "    X = np.concatenate((o,X),axis = 1)\n",
    "    X = X.T\n",
    "    \n",
    "    return X,y"
   ]
  },
  {
   "cell_type": "markdown",
   "metadata": {},
   "source": [
    "Functionality for defining Newton's method for the squared margin cost function - computing gradients and Hessians, a descent loop, and feature transformer."
   ]
  },
  {
   "cell_type": "code",
   "execution_count": null,
   "metadata": {
    "collapsed": true
   },
   "outputs": [],
   "source": [
    "### TODO: YOUR CODE GOES HERE ###\n",
    "# run newton's method\n",
    "def squared_margin_newtons_method(X,y,w):\n",
    "    # begin newton's method loop    \n",
    "    max_its = 20\n",
    "    for k in range(max_its):\n",
    "\n",
    "        \n",
    "        \n",
    "        \n",
    "    return w"
   ]
  },
  {
   "cell_type": "markdown",
   "metadata": {},
   "source": [
    "Up next - we need to plot the data and separator in the original and transformed feature space."
   ]
  },
  {
   "cell_type": "code",
   "execution_count": null,
   "metadata": {
    "collapsed": true
   },
   "outputs": [],
   "source": [
    "# plot everything\n",
    "def show_before_and_after(X,y,F,w):\n",
    "    # make figure\n",
    "    fig = plt.figure(figsize = (7,3))\n",
    "    ax1 = fig.add_subplot(121)          # panel for original space\n",
    "    ax2 = fig.add_subplot(122)          # panel transformed space\n",
    "\n",
    "    ##### plot original data and nonlinear separator  #####\n",
    "    r = np.linspace(-1.1,1.1,2000)\n",
    "    s,t = np.meshgrid(r,r)\n",
    "    s = np.reshape(s,(np.size(s),1))\n",
    "    t = np.reshape(t,(np.size(t),1))\n",
    "\n",
    "    # use rule to partition the input space - i.e., plot the nonlinear separator\n",
    "    z = w[0] + w[1]*s**2 + w[2]*t\n",
    "    s.shape = (np.size(r),np.size(r))\n",
    "    t.shape = (np.size(r),np.size(r))\n",
    "    z.shape = (np.size(r),np.size(r))\n",
    "    ax1.contour(s,t,z,colors='k', linewidths=3.5,levels = [0],zorder = 2)\n",
    "\n",
    "    # plot points \n",
    "    ind0 = np.argwhere(y == 1)\n",
    "    ind0 = [v[0] for v in ind0]\n",
    "    ind1 = np.argwhere(y == -1)\n",
    "    ind1 = [v[0] for v in ind1]\n",
    "    ax1.scatter(X[1,ind0],X[2,ind0],s = 55, color = \"#FF0080\", edgecolor = 'k')\n",
    "    ax1.scatter(X[1,ind1],X[2,ind1],s = 55, color = \"#00FF7F\", edgecolor = 'k')\n",
    "    \n",
    "    # clean up the plot\n",
    "    ax1.set_xlim([min(X[1,:]) - 0.1,max(X[1,:]) + 0.1])\n",
    "    ax1.set_ylim([min(X[2,:]) - 0.1,max(X[2,:]) + 0.1])\n",
    "    ax1.set_xlabel('$x_1$',fontsize = 13)\n",
    "    ax1.set_ylabel('$x_2$',rotation = 0,fontsize = 13)\n",
    "    ax1.set_title('original space')\n",
    "    ax1.axis('off')\n",
    "    \n",
    "    ##### plot transformed data and linear separator  #####\n",
    "    # use rule to partition the input space - i.e., plot the separator\n",
    "    s = np.reshape(s,(np.size(s),1))\n",
    "    t = np.reshape(t,(np.size(t),1))\n",
    "    \n",
    "    z = w[0] + w[1]*s + w[2]*t\n",
    "    s.shape = (np.size(r),np.size(r))\n",
    "    t.shape = (np.size(r),np.size(r))\n",
    "    z.shape = (np.size(r),np.size(r))\n",
    "    ax2.contour(s,t,z,colors='k', linewidths=3.5,levels = [0],zorder = 2)\n",
    "    ax2.scatter(F[1,ind0],F[2,ind0],s = 55, color = \"#FF0080\", edgecolor = 'k')\n",
    "    ax2.scatter(F[1,ind1],F[2,ind1],s = 55, color = \"#00FF7F\", edgecolor = 'k')\n",
    "    \n",
    "    # clean up the plot\n",
    "    ax2.set_xlim([min(X[1,:]) - 0.1,max(X[1,:]) + 0.1])\n",
    "    ax2.set_ylim([min(X[2,:]) - 0.1,max(X[2,:]) + 0.1])\n",
    "    ax2.set_xlabel('$x_1^2$',fontsize = 13)\n",
    "    ax2.set_ylabel('$x_2$',rotation = 0,fontsize = 13)\n",
    "    ax2.set_title('transformed feature space')\n",
    "    ax2.axis('off')\n",
    "    \n",
    "    plt.show()"
   ]
  },
  {
   "cell_type": "markdown",
   "metadata": {
    "collapsed": true
   },
   "source": [
    "With everything defined its time to run all."
   ]
  },
  {
   "cell_type": "code",
   "execution_count": null,
   "metadata": {
    "collapsed": false
   },
   "outputs": [],
   "source": [
    "# load in the dataset\n",
    "X,y = load_data('quadratic_classification.csv')\n",
    "\n",
    "# transform the input features\n",
    "F = feature_transform(X)\n",
    "\n",
    "# run a classification algorithm on the transformed data\n",
    "w = np.random.randn(np.shape(X)[0],1)\n",
    "w = squared_margin_newtons_method(F,y,w)\n",
    "\n",
    "# plot original and transformed dataset and separation\n",
    "show_before_and_after(X,y,F,w)"
   ]
  }
 ],
 "metadata": {
  "anaconda-cloud": {},
  "kernelspec": {
   "display_name": "Python 3",
   "language": "python",
   "name": "python3"
  },
  "language_info": {
   "codemirror_mode": {
    "name": "ipython",
    "version": 3
   },
   "file_extension": ".py",
   "mimetype": "text/x-python",
   "name": "python",
   "nbconvert_exporter": "python",
   "pygments_lexer": "ipython3",
   "version": "3.5.2"
  }
 },
 "nbformat": 4,
 "nbformat_minor": 1
}
