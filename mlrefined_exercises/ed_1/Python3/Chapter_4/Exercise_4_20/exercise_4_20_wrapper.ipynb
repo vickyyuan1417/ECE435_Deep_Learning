{
 "cells": [
  {
   "cell_type": "code",
   "execution_count": null,
   "metadata": {
    "collapsed": false
   },
   "outputs": [],
   "source": [
    "# This file is associated with the book\n",
    "# \"Machine Learning Refined\", Cambridge University Press, 2016.\n",
    "# by Jeremy Watt, Reza Borhani, and Aggelos Katsaggelos.\n",
    "\n",
    "import numpy as np\n",
    "import pandas as pd\n",
    "import matplotlib.pyplot as plt"
   ]
  },
  {
   "cell_type": "markdown",
   "metadata": {},
   "source": [
    "A simple data loading function."
   ]
  },
  {
   "cell_type": "code",
   "execution_count": null,
   "metadata": {
    "collapsed": true
   },
   "outputs": [],
   "source": [
    "# import training data \n",
    "def load_data(csvname):\n",
    "    # load in data\n",
    "    data = np.asarray(pd.read_csv(csvname,header = None))\n",
    "    X = data[:,0:-1]\n",
    "    y = data[:,-1]\n",
    "    y.shape = (len(y),1)\n",
    "    \n",
    "    # rescale final two features - they are very big naturally\n",
    "    X[:,-1] = np.log(X[:,-1])\n",
    "    X[:,-2] = np.log(X[:,-2])\n",
    "    \n",
    "    # pad data with ones for more compact gradient computation\n",
    "    o = np.ones((np.shape(X)[0],1))\n",
    "    X = np.concatenate((o,X),axis = 1)\n",
    "    X = X.T\n",
    "    \n",
    "    return X,y"
   ]
  },
  {
   "cell_type": "markdown",
   "metadata": {},
   "source": [
    "Functionality for performing gradient descent using the squared margin cost - gradient computation, descent loop, etc.,"
   ]
  },
  {
   "cell_type": "code",
   "execution_count": null,
   "metadata": {
    "collapsed": true
   },
   "outputs": [],
   "source": [
    "### TODO: YOUR CODE GOES HERE ###\n",
    "# gradient descent function for squared margin cost\n",
    "def squared_margin_grad(X,y):\n",
    "    # Initializations \n",
    "    w = np.zeros((np.shape(X)[0],1));        # random initial point\n",
    "    alpha = 10**-6\n",
    "    max_its = 500\n",
    "    misclass_history = []\n",
    "    \n",
    "    for k in range(max_its):\n",
    "\n",
    "        \n",
    "        \n",
    "    return misclass_history\n",
    "\n",
    "# function for counting the number of misclassifications\n",
    "def count_misclasses(X,y,w):\n",
    "    y_pred = np.sign(np.dot(X.T,w))\n",
    "    num_misclassed = len(y) - len([i for i, j in zip(y, y_pred) if i == j])\n",
    "    return num_misclassed"
   ]
  },
  {
   "cell_type": "markdown",
   "metadata": {},
   "source": [
    "With everything setup its time to run all."
   ]
  },
  {
   "cell_type": "code",
   "execution_count": null,
   "metadata": {
    "collapsed": false
   },
   "outputs": [],
   "source": [
    "# load in data\n",
    "X,y = load_data('spambase_data.csv')\n",
    "\n",
    "# run gradient descent - with \n",
    "history_1 = squared_margin_grad(X[0:48,:],y)\n",
    "history_2 = squared_margin_grad(X[0:54,:],y)\n",
    "history_3 = squared_margin_grad(X,y)\n",
    "\n",
    "# plot histories\n",
    "plt.plot(history_1[10:],linewidth = 2)\n",
    "plt.plot(history_2[10:],linewidth = 2)\n",
    "plt.plot(history_3[10:],linewidth = 2)\n",
    "\n",
    "plt.legend(['BoW','BoW + Char feats','BoW + Char + spam feats'])\n",
    "plt.show()"
   ]
  }
 ],
 "metadata": {
  "anaconda-cloud": {},
  "kernelspec": {
   "display_name": "Python 3",
   "language": "python",
   "name": "python3"
  },
  "language_info": {
   "codemirror_mode": {
    "name": "ipython",
    "version": 3
   },
   "file_extension": ".py",
   "mimetype": "text/x-python",
   "name": "python",
   "nbconvert_exporter": "python",
   "pygments_lexer": "ipython3",
   "version": "3.5.2"
  }
 },
 "nbformat": 4,
 "nbformat_minor": 1
}
