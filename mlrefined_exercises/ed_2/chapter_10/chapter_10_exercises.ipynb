{
 "cells": [
  {
   "cell_type": "markdown",
   "metadata": {
    "toc": "true"
   },
   "source": [
    "# Table of Contents\n",
    " <p><div class=\"lev1 toc-item\"><a href=\"#Exercise-10.1.-Modeling-a-wave\" data-toc-modified-id=\"Exercise-10.1.-Modeling-a-wave-1\"><span class=\"toc-item-num\">1&nbsp;&nbsp;</span>Exercise 10.1. Modeling a wave</a></div><div class=\"lev1 toc-item\"><a href=\"#Exercise-10.2.-Modeling-population-growth\" data-toc-modified-id=\"Exercise-10.2.-Modeling-population-growth-2\"><span class=\"toc-item-num\">2&nbsp;&nbsp;</span>Exercise 10.2. Modeling population growth</a></div><div class=\"lev1 toc-item\"><a href=\"#Exercise-10.3.-Galileo’s-experiment\" data-toc-modified-id=\"Exercise-10.3.-Galileo’s-experiment-3\"><span class=\"toc-item-num\">3&nbsp;&nbsp;</span>Exercise 10.3. Galileo’s experiment</a></div><div class=\"lev1 toc-item\"><a href=\"#Exercise-10.4.-Moore's-law\" data-toc-modified-id=\"Exercise-10.4.-Moore's-law-4\"><span class=\"toc-item-num\">4&nbsp;&nbsp;</span>Exercise 10.4. Moore's law</a></div><div class=\"lev1 toc-item\"><a href=\"#Exercise-10.5.-Ohm's-law\" data-toc-modified-id=\"Exercise-10.5.-Ohm's-law-5\"><span class=\"toc-item-num\">5&nbsp;&nbsp;</span>Exercise 10.5. Ohm's law</a></div><div class=\"lev1 toc-item\"><a href=\"#Exercise-10.6.-Modeling-multiple-waves\" data-toc-modified-id=\"Exercise-10.6.-Modeling-multiple-waves-6\"><span class=\"toc-item-num\">6&nbsp;&nbsp;</span>Exercise 10.6. Modeling multiple waves</a></div><div class=\"lev1 toc-item\"><a href=\"#Exercise-10.7.-An-elliptical-decision-boundary\" data-toc-modified-id=\"Exercise-10.7.-An-elliptical-decision-boundary-7\"><span class=\"toc-item-num\">7&nbsp;&nbsp;</span>Exercise 10.7. An elliptical decision boundary</a></div><div class=\"lev1 toc-item\"><a href=\"#Exercise-10.8.-Engineering-features-for-a-two-class-classification-dataset\" data-toc-modified-id=\"Exercise-10.8.-Engineering-features-for-a-two-class-classification-dataset-8\"><span class=\"toc-item-num\">8&nbsp;&nbsp;</span>Exercise 10.8. Engineering features for a two-class classification dataset</a></div><div class=\"lev1 toc-item\"><a href=\"#Exercise-10.9.-A-circular-manifold\" data-toc-modified-id=\"Exercise-10.9.-A-circular-manifold-9\"><span class=\"toc-item-num\">9&nbsp;&nbsp;</span>Exercise 10.9. A circular manifold</a></div><div class=\"lev1 toc-item\"><a href=\"#Extra:-Elliptical-boundaries\" data-toc-modified-id=\"Extra:-Elliptical-boundaries-10\"><span class=\"toc-item-num\">10&nbsp;&nbsp;</span>Extra: Elliptical boundaries</a></div><div class=\"lev1 toc-item\"><a href=\"#Extra:-Determining-the-orbit-of-celestial-bodies\" data-toc-modified-id=\"Extra:-Determining-the-orbit-of-celestial-bodies-11\"><span class=\"toc-item-num\">11&nbsp;&nbsp;</span>Extra: Determining the orbit of celestial bodies</a></div>"
   ]
  },
  {
   "cell_type": "code",
   "execution_count": 1,
   "metadata": {},
   "outputs": [],
   "source": [
    "datapath = '../mlrefined_datasets/nonlinear_superlearn_datasets/'\n",
    "\n",
    "import autograd.numpy as np\n",
    "import pandas as pd"
   ]
  },
  {
   "cell_type": "markdown",
   "metadata": {},
   "source": [
    "# Exercise 10.1. Modeling a wave"
   ]
  },
  {
   "cell_type": "code",
   "execution_count": 2,
   "metadata": {},
   "outputs": [
    {
     "name": "stdout",
     "output_type": "stream",
     "text": [
      "(1, 21)\n",
      "(1, 21)\n"
     ]
    }
   ],
   "source": [
    "# load data\n",
    "csvname = datapath + 'noisy_sin_sample.csv'\n",
    "data = np.loadtxt(csvname,delimiter = ',')\n",
    "\n",
    "# load input/output data\n",
    "x = data[:-1,:]\n",
    "y = data[-1:,:]\n",
    "\n",
    "print(np.shape(x))\n",
    "print(np.shape(y))"
   ]
  },
  {
   "cell_type": "markdown",
   "metadata": {
    "slideshow": {
     "slide_type": "slide"
    }
   },
   "source": [
    "# Exercise 10.2. Modeling population growth"
   ]
  },
  {
   "cell_type": "code",
   "execution_count": 3,
   "metadata": {},
   "outputs": [
    {
     "name": "stdout",
     "output_type": "stream",
     "text": [
      "(1, 19)\n",
      "(1, 19)\n"
     ]
    }
   ],
   "source": [
    "# load data\n",
    "csvname = datapath + 'yeast.csv'\n",
    "data = np.loadtxt(csvname,delimiter = ',')\n",
    "\n",
    "# get input/output pairs\n",
    "x = data[:-1,:]\n",
    "y = data[-1:,:] \n",
    "y -= np.min(y)\n",
    "y /= np.max(y)\n",
    "\n",
    "print(np.shape(x))\n",
    "print(np.shape(y))"
   ]
  },
  {
   "cell_type": "markdown",
   "metadata": {},
   "source": [
    "# Exercise 10.3. Galileo’s experiment"
   ]
  },
  {
   "cell_type": "code",
   "execution_count": 4,
   "metadata": {},
   "outputs": [
    {
     "name": "stdout",
     "output_type": "stream",
     "text": [
      "(1, 6)\n",
      "(1, 6)\n"
     ]
    }
   ],
   "source": [
    "# load data\n",
    "csvname = datapath + 'galileo_ramp_data.csv'\n",
    "data = np.loadtxt(csvname,delimiter = ',')\n",
    "\n",
    "# get input/output pairs\n",
    "x = data[:-1,:]\n",
    "y = data[-1:,:] \n",
    "\n",
    "print(np.shape(x))\n",
    "print(np.shape(y))"
   ]
  },
  {
   "cell_type": "markdown",
   "metadata": {},
   "source": [
    "# Exercise 10.4. Moore's law"
   ]
  },
  {
   "cell_type": "code",
   "execution_count": 5,
   "metadata": {},
   "outputs": [
    {
     "name": "stdout",
     "output_type": "stream",
     "text": [
      "(85, 1)\n",
      "(85, 1)\n"
     ]
    }
   ],
   "source": [
    "# import the dataset\n",
    "csvname = datapath + 'transistor_counts.csv'\n",
    "data = np.asarray(pd.read_csv(csvname,header = None))\n",
    "x = data[:,0]\n",
    "x.shape = (len(x),1)\n",
    "y = data[:,1]\n",
    "y.shape = (len(y),1)\n",
    "\n",
    "print(np.shape(x))\n",
    "print(np.shape(y))"
   ]
  },
  {
   "cell_type": "markdown",
   "metadata": {},
   "source": [
    "# Exercise 10.5. Ohm's law"
   ]
  },
  {
   "cell_type": "code",
   "execution_count": 6,
   "metadata": {},
   "outputs": [
    {
     "name": "stdout",
     "output_type": "stream",
     "text": [
      "(5, 1)\n",
      "(5, 1)\n"
     ]
    }
   ],
   "source": [
    "csvname = datapath + 'ohms_data.csv'\n",
    "data = np.asarray(pd.read_csv(csvname,header = None))\n",
    "x = data[:,0]\n",
    "x.shape = (len(x),1)\n",
    "y = data[:,1]\n",
    "y.shape = (len(y),1)\n",
    "\n",
    "print(np.shape(x))\n",
    "print(np.shape(y))"
   ]
  },
  {
   "cell_type": "markdown",
   "metadata": {},
   "source": [
    "# Exercise 10.6. Modeling multiple waves"
   ]
  },
  {
   "cell_type": "code",
   "execution_count": 7,
   "metadata": {},
   "outputs": [
    {
     "name": "stdout",
     "output_type": "stream",
     "text": [
      "(2, 100)\n",
      "(2, 100)\n"
     ]
    }
   ],
   "source": [
    "csvname = datapath + 'multiple_sine_waves.csv'\n",
    "data = np.loadtxt(csvname,delimiter=',')\n",
    "x = data[:2,:]\n",
    "y = data[2:,:]\n",
    "\n",
    "print(np.shape(x))\n",
    "print(np.shape(y))"
   ]
  },
  {
   "cell_type": "markdown",
   "metadata": {},
   "source": [
    "# Exercise 10.7. An elliptical decision boundary"
   ]
  },
  {
   "cell_type": "code",
   "execution_count": 8,
   "metadata": {},
   "outputs": [
    {
     "name": "stdout",
     "output_type": "stream",
     "text": [
      "(2, 150)\n",
      "(1, 150)\n"
     ]
    }
   ],
   "source": [
    "csvname = datapath + 'ellipse_2class_data.csv'\n",
    "data = np.loadtxt(csvname,delimiter=',')\n",
    "\n",
    "x = data[:2,:]\n",
    "y = data[2:,:]\n",
    "\n",
    "print(np.shape(x))\n",
    "print(np.shape(y))"
   ]
  },
  {
   "cell_type": "markdown",
   "metadata": {},
   "source": [
    "# Exercise 10.8. Engineering features for a two-class classification dataset"
   ]
  },
  {
   "cell_type": "code",
   "execution_count": 9,
   "metadata": {},
   "outputs": [
    {
     "name": "stdout",
     "output_type": "stream",
     "text": [
      "(2, 300)\n",
      "(1, 300)\n"
     ]
    }
   ],
   "source": [
    "csvname = datapath + 'diagonal_stripes.csv'\n",
    "data = np.loadtxt(csvname, delimiter=',')\n",
    "\n",
    "x = data[:2,:]\n",
    "y = data[2:,:]\n",
    "\n",
    "print(np.shape(x))\n",
    "print(np.shape(y))"
   ]
  },
  {
   "cell_type": "markdown",
   "metadata": {},
   "source": [
    "# Exercise 10.9. A circular manifold"
   ]
  },
  {
   "cell_type": "code",
   "execution_count": 10,
   "metadata": {},
   "outputs": [
    {
     "name": "stdout",
     "output_type": "stream",
     "text": [
      "(2, 20)\n"
     ]
    }
   ],
   "source": [
    "path = '../mlrefined_datasets/unsuperlearn_datasets/'\n",
    "X = np.loadtxt(path + 'circle_data.csv',delimiter=',')\n",
    "\n",
    "print(np.shape(X))"
   ]
  },
  {
   "cell_type": "markdown",
   "metadata": {},
   "source": [
    "# Extra: Elliptical boundaries"
   ]
  },
  {
   "cell_type": "code",
   "execution_count": 11,
   "metadata": {},
   "outputs": [
    {
     "name": "stdout",
     "output_type": "stream",
     "text": [
      "(2, 110)\n",
      "(1, 110)\n"
     ]
    }
   ],
   "source": [
    "csvname = datapath + '3_layercake_data.csv'\n",
    "data = np.loadtxt(csvname, delimiter=',')\n",
    "\n",
    "x = data[:2,:]\n",
    "y = data[2:,:]\n",
    "\n",
    "print(np.shape(x))\n",
    "print(np.shape(y))"
   ]
  },
  {
   "cell_type": "markdown",
   "metadata": {},
   "source": [
    "# Extra: Determining the orbit of celestial bodies"
   ]
  },
  {
   "cell_type": "code",
   "execution_count": 12,
   "metadata": {},
   "outputs": [
    {
     "name": "stdout",
     "output_type": "stream",
     "text": [
      "(20, 1)\n",
      "(20, 1)\n"
     ]
    }
   ],
   "source": [
    "csvname = datapath + 'asteroid_data.csv'\n",
    "data = np.asarray(pd.read_csv(csvname,header = None))\n",
    "x = data[:,0]\n",
    "x.shape = (len(x),1)\n",
    "y = data[:,1]\n",
    "y.shape = (len(y),1)\n",
    "\n",
    "print(np.shape(x))\n",
    "print(np.shape(y))"
   ]
  }
 ],
 "metadata": {
  "kernelspec": {
   "display_name": "Python 3",
   "language": "python",
   "name": "python3"
  },
  "language_info": {
   "codemirror_mode": {
    "name": "ipython",
    "version": 3
   },
   "file_extension": ".py",
   "mimetype": "text/x-python",
   "name": "python",
   "nbconvert_exporter": "python",
   "pygments_lexer": "ipython3",
   "version": "3.6.6"
  },
  "toc": {
   "colors": {
    "hover_highlight": "#DAA520",
    "navigate_num": "#000000",
    "navigate_text": "#333333",
    "running_highlight": "#FF0000",
    "selected_highlight": "#FFD700",
    "sidebar_border": "#EEEEEE",
    "wrapper_background": "#FFFFFF"
   },
   "moveMenuLeft": true,
   "nav_menu": {
    "height": "216.233px",
    "width": "252px"
   },
   "navigate_menu": true,
   "number_sections": false,
   "sideBar": true,
   "threshold": 4,
   "toc_cell": true,
   "toc_section_display": "block",
   "toc_window_display": false,
   "widenNotebook": false
  }
 },
 "nbformat": 4,
 "nbformat_minor": 2
}
