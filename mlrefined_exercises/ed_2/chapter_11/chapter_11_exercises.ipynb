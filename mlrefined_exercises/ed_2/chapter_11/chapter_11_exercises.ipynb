{
 "cells": [
  {
   "cell_type": "markdown",
   "metadata": {
    "toc": "true"
   },
   "source": [
    "# Table of Contents\n",
    " <p><div class=\"lev1 toc-item\"><a href=\"#Exercise-11.1.-Naive-cross-validation-I\" data-toc-modified-id=\"Exercise-11.1.-Naive-cross-validation-I-1\"><span class=\"toc-item-num\">1&nbsp;&nbsp;</span>Exercise 11.1. Naive cross-validation I</a></div><div class=\"lev1 toc-item\"><a href=\"#Exercise-11.2.-Naive-cross-validation-II\" data-toc-modified-id=\"Exercise-11.2.-Naive-cross-validation-II-2\"><span class=\"toc-item-num\">2&nbsp;&nbsp;</span>Exercise 11.2. Naive cross-validation II</a></div><div class=\"lev1 toc-item\"><a href=\"#Exercise-11.3.-Boosting-based-cross-validation-I\" data-toc-modified-id=\"Exercise-11.3.-Boosting-based-cross-validation-I-3\"><span class=\"toc-item-num\">3&nbsp;&nbsp;</span>Exercise 11.3. Boosting based cross-validation I</a></div><div class=\"lev1 toc-item\"><a href=\"#Exercise-11.4.-Boosting-based-cross-validation-II\" data-toc-modified-id=\"Exercise-11.4.-Boosting-based-cross-validation-II-4\"><span class=\"toc-item-num\">4&nbsp;&nbsp;</span>Exercise 11.4. Boosting based cross-validation II</a></div><div class=\"lev1 toc-item\"><a href=\"#Exercise-11.5.-Regularization-based-cross-validation\" data-toc-modified-id=\"Exercise-11.5.-Regularization-based-cross-validation-5\"><span class=\"toc-item-num\">5&nbsp;&nbsp;</span>Exercise 11.5. Regularization based cross-validation</a></div><div class=\"lev1 toc-item\"><a href=\"#Exercise-11.6.-Bagging-regression-models\" data-toc-modified-id=\"Exercise-11.6.-Bagging-regression-models-6\"><span class=\"toc-item-num\">6&nbsp;&nbsp;</span>Exercise 11.6. Bagging regression models</a></div><div class=\"lev1 toc-item\"><a href=\"#Exercise-11.7.-Bagging-two-class-classification-models\" data-toc-modified-id=\"Exercise-11.7.-Bagging-two-class-classification-models-7\"><span class=\"toc-item-num\">7&nbsp;&nbsp;</span>Exercise 11.7. Bagging two-class classification models</a></div><div class=\"lev1 toc-item\"><a href=\"#Exercise-11.8.-Bagging-multi-class-classification-models\" data-toc-modified-id=\"Exercise-11.8.-Bagging-multi-class-classification-models-8\"><span class=\"toc-item-num\">8&nbsp;&nbsp;</span>Exercise 11.8. Bagging multi-class classification models</a></div><div class=\"lev1 toc-item\"><a href=\"#Exercise-11.9.-K-fold-cross-validation\" data-toc-modified-id=\"Exercise-11.9.-K-fold-cross-validation-9\"><span class=\"toc-item-num\">9&nbsp;&nbsp;</span>Exercise 11.9. K-fold cross-validation</a></div><div class=\"lev1 toc-item\"><a href=\"#Exercise-11.10.-Classification-of-diabetes\" data-toc-modified-id=\"Exercise-11.10.-Classification-of-diabetes-10\"><span class=\"toc-item-num\">10&nbsp;&nbsp;</span>Exercise 11.10. Classification of diabetes</a></div>"
   ]
  },
  {
   "cell_type": "code",
   "execution_count": 1,
   "metadata": {},
   "outputs": [],
   "source": [
    "import autograd.numpy as np\n",
    "import pandas as pd\n",
    "\n",
    "datapath = '../mlrefined_datasets/nonlinear_superlearn_datasets/'"
   ]
  },
  {
   "cell_type": "markdown",
   "metadata": {},
   "source": [
    "# Exercise 11.1. Naive cross-validation I"
   ]
  },
  {
   "cell_type": "code",
   "execution_count": 2,
   "metadata": {},
   "outputs": [
    {
     "name": "stdout",
     "output_type": "stream",
     "text": [
      "(1, 21)\n",
      "(1, 21)\n"
     ]
    }
   ],
   "source": [
    "csvname = datapath + 'noisy_sin_sample.csv'\n",
    "\n",
    "data = np.loadtxt(csvname, delimiter = ',')\n",
    "x = data[:-1,:]\n",
    "y = data[-1:,:] \n",
    "\n",
    "print(np.shape(x))\n",
    "print(np.shape(y))"
   ]
  },
  {
   "cell_type": "markdown",
   "metadata": {},
   "source": [
    "# Exercise 11.2. Naive cross-validation II"
   ]
  },
  {
   "cell_type": "code",
   "execution_count": 3,
   "metadata": {},
   "outputs": [
    {
     "name": "stdout",
     "output_type": "stream",
     "text": [
      "(2, 99)\n",
      "(1, 99)\n"
     ]
    }
   ],
   "source": [
    "csvname = datapath + 'new_circle_data.csv'\n",
    "data = np.loadtxt(csvname, delimiter = ',')\n",
    "x = data[:-1,:]\n",
    "y = data[-1:,:] \n",
    "\n",
    "print(np.shape(x))\n",
    "print(np.shape(y))"
   ]
  },
  {
   "cell_type": "markdown",
   "metadata": {},
   "source": [
    "# Exercise 11.3. Boosting based cross-validation I"
   ]
  },
  {
   "cell_type": "code",
   "execution_count": 4,
   "metadata": {},
   "outputs": [
    {
     "name": "stdout",
     "output_type": "stream",
     "text": [
      "(2, 99)\n",
      "(1, 99)\n"
     ]
    }
   ],
   "source": [
    "csvname = datapath + 'new_circle_data.csv'\n",
    "data = np.loadtxt(csvname, delimiter = ',')\n",
    "\n",
    "x = data[:-1,:]\n",
    "y = data[-1:,:] \n",
    "\n",
    "print(np.shape(x))\n",
    "print(np.shape(y))"
   ]
  },
  {
   "cell_type": "markdown",
   "metadata": {},
   "source": [
    "# Exercise 11.4. Boosting based cross-validation II"
   ]
  },
  {
   "cell_type": "code",
   "execution_count": 5,
   "metadata": {},
   "outputs": [
    {
     "name": "stdout",
     "output_type": "stream",
     "text": [
      "(9, 699)\n",
      "(1, 699)\n"
     ]
    }
   ],
   "source": [
    "path  = '../mlrefined_datasets/superlearn_datasets/'\n",
    "filename  = path + 'breast_cancer_original.txt'\n",
    "\n",
    "data = pd.read_csv(filename, header = None)\n",
    "\n",
    "# drop user id column\n",
    "data.drop(0, axis=1, inplace=True)\n",
    "\n",
    "# replace '?' missing entries with np.nan values\n",
    "data.replace('?', np.nan,inplace = True)\n",
    "\n",
    "# replace arbitrary label values with pm 1\n",
    "data[10].replace([2,4], [-1,1], inplace = True)\n",
    "\n",
    "# convert all entries to floats\n",
    "data = data.astype(float)\n",
    "\n",
    "# convert dataframe to numpy array\n",
    "data = data.values\n",
    "\n",
    "# cut into input/output pairs\n",
    "x = data[:,:-1].T\n",
    "y = data[:,-1:].T\n",
    "\n",
    "print(np.shape(x))\n",
    "print(np.shape(y))"
   ]
  },
  {
   "cell_type": "markdown",
   "metadata": {},
   "source": [
    "# Exercise 11.5. Regularization based cross-validation"
   ]
  },
  {
   "cell_type": "code",
   "execution_count": 6,
   "metadata": {},
   "outputs": [
    {
     "name": "stdout",
     "output_type": "stream",
     "text": [
      "(2, 99)\n",
      "(1, 99)\n"
     ]
    }
   ],
   "source": [
    "csvname = datapath + 'new_circle_data.csv'\n",
    "data = np.loadtxt(csvname, delimiter = ',')\n",
    "x = data[:-1,:]\n",
    "y = data[-1:,:] \n",
    "\n",
    "print(np.shape(x))\n",
    "print(np.shape(y))"
   ]
  },
  {
   "cell_type": "markdown",
   "metadata": {},
   "source": [
    "# Exercise 11.6. Bagging regression models"
   ]
  },
  {
   "cell_type": "code",
   "execution_count": 7,
   "metadata": {},
   "outputs": [
    {
     "name": "stdout",
     "output_type": "stream",
     "text": [
      "(1, 21)\n",
      "(1, 21)\n"
     ]
    }
   ],
   "source": [
    "# This code cell will not be shown in the HTML version of this notebook\n",
    "# import data\n",
    "csvname = datapath + 'noisy_sin_sample.csv'\n",
    "\n",
    "data = np.loadtxt(csvname, delimiter = ',')\n",
    "x = data[:-1,:]\n",
    "y = data[-1:,:]\n",
    "\n",
    "print(np.shape(x))\n",
    "print(np.shape(y))"
   ]
  },
  {
   "cell_type": "markdown",
   "metadata": {},
   "source": [
    "# Exercise 11.7. Bagging two-class classification models"
   ]
  },
  {
   "cell_type": "code",
   "execution_count": 8,
   "metadata": {},
   "outputs": [
    {
     "name": "stdout",
     "output_type": "stream",
     "text": [
      "(2, 99)\n",
      "(1, 99)\n"
     ]
    }
   ],
   "source": [
    "csvname = datapath + 'new_circle_data.csv'\n",
    "\n",
    "data = np.loadtxt(csvname, delimiter = ',')\n",
    "x = data[:-1,:]\n",
    "y = data[-1:,:] \n",
    "\n",
    "print(np.shape(x))\n",
    "print(np.shape(y))"
   ]
  },
  {
   "cell_type": "markdown",
   "metadata": {},
   "source": [
    "# Exercise 11.8. Bagging multi-class classification models"
   ]
  },
  {
   "cell_type": "code",
   "execution_count": 9,
   "metadata": {},
   "outputs": [
    {
     "name": "stdout",
     "output_type": "stream",
     "text": [
      "(2, 107)\n",
      "(1, 107)\n"
     ]
    }
   ],
   "source": [
    "csvname = datapath + '3eggs_multiclass.csv'\n",
    "\n",
    "data = np.loadtxt(csvname, delimiter = ',')\n",
    "x = data[:-1,:]\n",
    "y = data[-1:,:] \n",
    "\n",
    "print(np.shape(x))\n",
    "print(np.shape(y))"
   ]
  },
  {
   "cell_type": "markdown",
   "metadata": {},
   "source": [
    "# Exercise 11.9. K-fold cross-validation"
   ]
  },
  {
   "cell_type": "code",
   "execution_count": 10,
   "metadata": {},
   "outputs": [
    {
     "name": "stdout",
     "output_type": "stream",
     "text": [
      "(1, 6)\n",
      "(1, 6)\n"
     ]
    }
   ],
   "source": [
    "csvname = datapath + 'galileo_ramp_data.csv'\n",
    "\n",
    "data = np.loadtxt(csvname, delimiter = ',')\n",
    "x = data[:-1,:]\n",
    "y = data[-1:,:]\n",
    "\n",
    "print(np.shape(x))\n",
    "print(np.shape(y))"
   ]
  },
  {
   "cell_type": "markdown",
   "metadata": {},
   "source": [
    "# Exercise 11.10. Classification of diabetes"
   ]
  },
  {
   "cell_type": "code",
   "execution_count": 11,
   "metadata": {},
   "outputs": [
    {
     "name": "stdout",
     "output_type": "stream",
     "text": [
      "(7128, 72)\n",
      "(1, 72)\n"
     ]
    }
   ],
   "source": [
    "csvname = datapath + 'new_gene_data.csv'\n",
    "data = np.loadtxt(csvname, delimiter = ',')\n",
    "x = data[:-1,:]\n",
    "y = data[-1:,:] \n",
    "\n",
    "print(np.shape(x))\n",
    "print(np.shape(y))"
   ]
  }
 ],
 "metadata": {
  "kernelspec": {
   "display_name": "Python 3",
   "language": "python",
   "name": "python3"
  },
  "language_info": {
   "codemirror_mode": {
    "name": "ipython",
    "version": 3
   },
   "file_extension": ".py",
   "mimetype": "text/x-python",
   "name": "python",
   "nbconvert_exporter": "python",
   "pygments_lexer": "ipython3",
   "version": "3.6.6"
  },
  "toc": {
   "colors": {
    "hover_highlight": "#DAA520",
    "navigate_num": "#000000",
    "navigate_text": "#333333",
    "running_highlight": "#FF0000",
    "selected_highlight": "#FFD700",
    "sidebar_border": "#EEEEEE",
    "wrapper_background": "#FFFFFF"
   },
   "moveMenuLeft": true,
   "nav_menu": {
    "height": "216.233px",
    "width": "252px"
   },
   "navigate_menu": true,
   "number_sections": false,
   "sideBar": true,
   "threshold": 4,
   "toc_cell": true,
   "toc_section_display": "block",
   "toc_window_display": false,
   "widenNotebook": false
  },
  "widgets": {
   "application/vnd.jupyter.widget-state+json": {
    "state": {},
    "version_major": 2,
    "version_minor": 0
   }
  }
 },
 "nbformat": 4,
 "nbformat_minor": 2
}
