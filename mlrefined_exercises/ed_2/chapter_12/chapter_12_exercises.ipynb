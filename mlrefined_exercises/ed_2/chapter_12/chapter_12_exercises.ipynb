{
 "cells": [
  {
   "cell_type": "markdown",
   "metadata": {
    "toc": "true"
   },
   "source": [
    "# Table of Contents\n",
    " <p><div class=\"lev1 toc-item\"><a href=\"#Exercise-12.3.-Polynomial-kernel-regression\" data-toc-modified-id=\"Exercise-12.3.-Polynomial-kernel-regression-1\"><span class=\"toc-item-num\">1&nbsp;&nbsp;</span>Exercise 12.3. Polynomial kernel regression</a></div><div class=\"lev1 toc-item\"><a href=\"#Exercise-12.6.-Regression-with-the-RBF-kernel\" data-toc-modified-id=\"Exercise-12.6.-Regression-with-the-RBF-kernel-2\"><span class=\"toc-item-num\">2&nbsp;&nbsp;</span>Exercise 12.6. Regression with the RBF kernel</a></div><div class=\"lev1 toc-item\"><a href=\"#Exercise-12.7.-Two-class-classification-with-the-RBF-kernel\" data-toc-modified-id=\"Exercise-12.7.-Two-class-classification-with-the-RBF-kernel-3\"><span class=\"toc-item-num\">3&nbsp;&nbsp;</span>Exercise 12.7. Two-class classification with the RBF kernel</a></div><div class=\"lev1 toc-item\"><a href=\"#Exercise-12.8.-Multi-class-classification-with-the-RBF-kernel\" data-toc-modified-id=\"Exercise-12.8.-Multi-class-classification-with-the-RBF-kernel-4\"><span class=\"toc-item-num\">4&nbsp;&nbsp;</span>Exercise 12.8. Multi-class classification with the RBF kernel</a></div><div class=\"lev1 toc-item\"><a href=\"#Exercise-12.12.-Kernels-and-a-cancer-dataset\" data-toc-modified-id=\"Exercise-12.12.-Kernels-and-a-cancer-dataset-5\"><span class=\"toc-item-num\">5&nbsp;&nbsp;</span>Exercise 12.12. Kernels and a cancer dataset</a></div>"
   ]
  },
  {
   "cell_type": "code",
   "execution_count": 1,
   "metadata": {},
   "outputs": [],
   "source": [
    "# import basic libraries and autograd wrapped numpy\n",
    "import autograd.numpy as np\n",
    "\n",
    "datapath = '../mlrefined_datasets/nonlinear_superlearn_datasets/'"
   ]
  },
  {
   "cell_type": "markdown",
   "metadata": {},
   "source": [
    "# Exercise 12.3. Polynomial kernel regression"
   ]
  },
  {
   "cell_type": "code",
   "execution_count": 2,
   "metadata": {},
   "outputs": [
    {
     "name": "stdout",
     "output_type": "stream",
     "text": [
      "(1, 21)\n",
      "(1, 21)\n"
     ]
    }
   ],
   "source": [
    "# import data\n",
    "csvname = datapath + 'noisy_sin_sample.csv'\n",
    "data = np.loadtxt(csvname, delimiter = ',')\n",
    "x = data[:-1,:]\n",
    "y = data[-1:,:]\n",
    "\n",
    "print(np.shape(x))\n",
    "print(np.shape(y))"
   ]
  },
  {
   "cell_type": "markdown",
   "metadata": {},
   "source": [
    "# Exercise 12.6. Regression with the RBF kernel"
   ]
  },
  {
   "cell_type": "code",
   "execution_count": 3,
   "metadata": {},
   "outputs": [
    {
     "name": "stdout",
     "output_type": "stream",
     "text": [
      "(1, 21)\n",
      "(1, 21)\n"
     ]
    }
   ],
   "source": [
    "# import data\n",
    "csvname = datapath + 'noisy_sin_sample.csv'\n",
    "data = np.loadtxt(csvname, delimiter = ',')\n",
    "x = data[:-1,:]\n",
    "y = data[-1:,:]\n",
    "\n",
    "print(np.shape(x))\n",
    "print(np.shape(y))"
   ]
  },
  {
   "cell_type": "markdown",
   "metadata": {},
   "source": [
    "# Exercise 12.7. Two-class classification with the RBF kernel"
   ]
  },
  {
   "cell_type": "code",
   "execution_count": 4,
   "metadata": {},
   "outputs": [
    {
     "name": "stdout",
     "output_type": "stream",
     "text": [
      "(2, 99)\n",
      "(1, 99)\n"
     ]
    }
   ],
   "source": [
    "# import data\n",
    "csvname = datapath + 'new_circle_data.csv'\n",
    "\n",
    "data = np.loadtxt(csvname, delimiter = ',')\n",
    "x = data[:-1,:]\n",
    "y = data[-1:,:]\n",
    "\n",
    "print(np.shape(x))\n",
    "print(np.shape(y))"
   ]
  },
  {
   "cell_type": "markdown",
   "metadata": {},
   "source": [
    "# Exercise 12.8. Multi-class classification with the RBF kernel"
   ]
  },
  {
   "cell_type": "code",
   "execution_count": 5,
   "metadata": {},
   "outputs": [
    {
     "name": "stdout",
     "output_type": "stream",
     "text": [
      "(2, 89)\n",
      "(1, 89)\n"
     ]
    }
   ],
   "source": [
    "# import data\n",
    "csvname = datapath + '2eggs_multiclass.csv'\n",
    "data = np.loadtxt(csvname, delimiter = ',')\n",
    "x = data[:-1,:]\n",
    "y = data[-1:,:]\n",
    "\n",
    "print(np.shape(x))\n",
    "print(np.shape(y))"
   ]
  },
  {
   "cell_type": "markdown",
   "metadata": {},
   "source": [
    "# Exercise 12.12. Kernels and a cancer dataset"
   ]
  },
  {
   "cell_type": "code",
   "execution_count": 6,
   "metadata": {},
   "outputs": [
    {
     "name": "stdout",
     "output_type": "stream",
     "text": [
      "(8, 699)\n",
      "(1, 699)\n"
     ]
    }
   ],
   "source": [
    "# load in data\n",
    "path = '../mlrefined_datasets/superlearn_datasets/'\n",
    "data = np.loadtxt(path + 'breast_cancer_data.csv', delimiter = ',')\n",
    "x = data[:-1,:]\n",
    "y = data[-1:,:]\n",
    "\n",
    "print(np.shape(x))\n",
    "print(np.shape(y))"
   ]
  }
 ],
 "metadata": {
  "kernelspec": {
   "display_name": "Python 3",
   "language": "python",
   "name": "python3"
  },
  "language_info": {
   "codemirror_mode": {
    "name": "ipython",
    "version": 3
   },
   "file_extension": ".py",
   "mimetype": "text/x-python",
   "name": "python",
   "nbconvert_exporter": "python",
   "pygments_lexer": "ipython3",
   "version": "3.6.6"
  },
  "toc": {
   "colors": {
    "hover_highlight": "#DAA520",
    "navigate_num": "#000000",
    "navigate_text": "#333333",
    "running_highlight": "#FF0000",
    "selected_highlight": "#FFD700",
    "sidebar_border": "#EEEEEE",
    "wrapper_background": "#FFFFFF"
   },
   "moveMenuLeft": true,
   "nav_menu": {
    "height": "234.8px",
    "width": "252px"
   },
   "navigate_menu": true,
   "number_sections": false,
   "sideBar": true,
   "threshold": 4,
   "toc_cell": true,
   "toc_section_display": "block",
   "toc_window_display": false,
   "widenNotebook": false
  }
 },
 "nbformat": 4,
 "nbformat_minor": 2
}
