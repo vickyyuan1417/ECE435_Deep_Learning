{
 "cells": [
  {
   "cell_type": "markdown",
   "metadata": {
    "toc": "true"
   },
   "source": [
    "# Table of Contents\n",
    " <p><div class=\"lev1 toc-item\"><a href=\"#Exercise-13.1.-Two-class-classification-with-neural-networks\" data-toc-modified-id=\"Exercise-13.1.-Two-class-classification-with-neural-networks-1\"><span class=\"toc-item-num\">1&nbsp;&nbsp;</span>Exercise 13.1. Two-class classification with neural networks</a></div><div class=\"lev1 toc-item\"><a href=\"#Exercise-13.2.-Multi-class-classification-with-neural-networks\" data-toc-modified-id=\"Exercise-13.2.-Multi-class-classification-with-neural-networks-2\"><span class=\"toc-item-num\">2&nbsp;&nbsp;</span>Exercise 13.2. Multi-class classification with neural networks</a></div><div class=\"lev1 toc-item\"><a href=\"#Exercise-13.4.-Nonlinear-Autoencoder-using-neural-networks\" data-toc-modified-id=\"Exercise-13.4.-Nonlinear-Autoencoder-using-neural-networks-3\"><span class=\"toc-item-num\">3&nbsp;&nbsp;</span>Exercise 13.4. Nonlinear Autoencoder using neural networks</a></div><div class=\"lev1 toc-item\"><a href=\"#Exercise-13.6.-Comparing-advanced-first-order-optimizers-I\" data-toc-modified-id=\"Exercise-13.6.-Comparing-advanced-first-order-optimizers-I-4\"><span class=\"toc-item-num\">4&nbsp;&nbsp;</span>Exercise 13.6. Comparing advanced first-order optimizers I</a></div><div class=\"lev1 toc-item\"><a href=\"#Exercise-13.7.-Comparing-advanced-first-order-optimizers-II\" data-toc-modified-id=\"Exercise-13.7.-Comparing-advanced-first-order-optimizers-II-5\"><span class=\"toc-item-num\">5&nbsp;&nbsp;</span>Exercise 13.7. Comparing advanced first-order optimizers II</a></div><div class=\"lev1 toc-item\"><a href=\"#Exercise-13.8.-Batch-normalization\" data-toc-modified-id=\"Exercise-13.8.-Batch-normalization-6\"><span class=\"toc-item-num\">6&nbsp;&nbsp;</span>Exercise 13.8. Batch normalization</a></div><div class=\"lev1 toc-item\"><a href=\"#Exercise-13.9.-Early-stopping-cross-validation\" data-toc-modified-id=\"Exercise-13.9.-Early-stopping-cross-validation-7\"><span class=\"toc-item-num\">7&nbsp;&nbsp;</span>Exercise 13.9. Early stopping cross-validation</a></div><div class=\"lev1 toc-item\"><a href=\"#Exercise-13.10.-Handwritten-digit-recognition-using-neural-networks\" data-toc-modified-id=\"Exercise-13.10.-Handwritten-digit-recognition-using-neural-networks-8\"><span class=\"toc-item-num\">8&nbsp;&nbsp;</span>Exercise 13.10. Handwritten digit recognition using neural networks</a></div>"
   ]
  },
  {
   "cell_type": "code",
   "execution_count": 1,
   "metadata": {},
   "outputs": [],
   "source": [
    "datapath = '../mlrefined_datasets/nonlinear_superlearn_datasets/'\n",
    "import autograd.numpy as np"
   ]
  },
  {
   "cell_type": "markdown",
   "metadata": {},
   "source": [
    "# Exercise 13.1. Two-class classification with neural networks "
   ]
  },
  {
   "cell_type": "code",
   "execution_count": 2,
   "metadata": {},
   "outputs": [
    {
     "name": "stdout",
     "output_type": "stream",
     "text": [
      "(2, 96)\n",
      "(1, 96)\n"
     ]
    }
   ],
   "source": [
    "data = np.loadtxt(datapath + '2_eggs.csv', delimiter=',')\n",
    "x = data[:2,:]\n",
    "y = data[2,:][np.newaxis,:]\n",
    "\n",
    "print(np.shape(x))\n",
    "print(np.shape(y))"
   ]
  },
  {
   "cell_type": "markdown",
   "metadata": {},
   "source": [
    "# Exercise 13.2. Multi-class classification with neural networks"
   ]
  },
  {
   "cell_type": "code",
   "execution_count": 3,
   "metadata": {},
   "outputs": [
    {
     "name": "stdout",
     "output_type": "stream",
     "text": [
      "(2, 110)\n",
      "(1, 110)\n"
     ]
    }
   ],
   "source": [
    "data = np.loadtxt(datapath + '3_layercake_data.csv', delimiter=',')\n",
    "x = data[:2,:]\n",
    "y = data[2,:][np.newaxis,:]\n",
    "\n",
    "print(np.shape(x))\n",
    "print(np.shape(y))"
   ]
  },
  {
   "cell_type": "markdown",
   "metadata": {},
   "source": [
    "# Exercise 13.4. Nonlinear Autoencoder using neural networks"
   ]
  },
  {
   "cell_type": "code",
   "execution_count": 4,
   "metadata": {},
   "outputs": [
    {
     "data": {
      "text/plain": [
       "<Figure size 640x480 with 1 Axes>"
      ]
     },
     "metadata": {},
     "output_type": "display_data"
    }
   ],
   "source": [
    "import matplotlib.pyplot as plt\n",
    "\n",
    "# import data\n",
    "X = np.loadtxt(datapath + 'universal_autoencoder_samples.csv', delimiter=',')\n",
    "\n",
    "plt.scatter(X[0,:], X[1,:], c = 'k', s = 60, linewidth = 0.75, edgecolor = 'w')\n",
    "plt.show()"
   ]
  },
  {
   "cell_type": "markdown",
   "metadata": {},
   "source": [
    "# Exercise 13.6. Comparing advanced first-order optimizers I"
   ]
  },
  {
   "cell_type": "code",
   "execution_count": 5,
   "metadata": {},
   "outputs": [
    {
     "name": "stdout",
     "output_type": "stream",
     "text": [
      "(70000, 784)\n",
      "(70000, 1)\n"
     ]
    }
   ],
   "source": [
    "# get MNIST data from online repository\n",
    "from sklearn.datasets import fetch_openml\n",
    "x, y = fetch_openml('mnist_784', version=1, return_X_y=True)\n",
    "\n",
    "# convert string labels to integers\n",
    "y = np.array([int(v) for v in y])[:,np.newaxis]\n",
    "\n",
    "print(np.shape(x))\n",
    "print(np.shape(y))"
   ]
  },
  {
   "cell_type": "markdown",
   "metadata": {},
   "source": [
    "# Exercise 13.7. Comparing advanced first-order optimizers II"
   ]
  },
  {
   "cell_type": "code",
   "execution_count": 6,
   "metadata": {},
   "outputs": [
    {
     "name": "stdout",
     "output_type": "stream",
     "text": [
      "(70000, 784)\n",
      "(70000, 1)\n"
     ]
    }
   ],
   "source": [
    "# get MNIST data from online repository\n",
    "from sklearn.datasets import fetch_openml\n",
    "x, y = fetch_openml('mnist_784', version=1, return_X_y=True)\n",
    "\n",
    "# convert string labels to integers\n",
    "y = np.array([int(v) for v in y])[:,np.newaxis]\n",
    "\n",
    "print(np.shape(x))\n",
    "print(np.shape(y))"
   ]
  },
  {
   "cell_type": "markdown",
   "metadata": {},
   "source": [
    "# Exercise 13.8. Batch normalization"
   ]
  },
  {
   "cell_type": "code",
   "execution_count": 7,
   "metadata": {},
   "outputs": [
    {
     "name": "stdout",
     "output_type": "stream",
     "text": [
      "(70000, 784)\n",
      "(70000, 1)\n"
     ]
    }
   ],
   "source": [
    "# get MNIST data from online repository\n",
    "from sklearn.datasets import fetch_openml\n",
    "x, y = fetch_openml('mnist_784', version=1, return_X_y=True)\n",
    "\n",
    "# convert string labels to integers\n",
    "y = np.array([int(v) for v in y])[:,np.newaxis]\n",
    "\n",
    "print(np.shape(x))\n",
    "print(np.shape(y))"
   ]
  },
  {
   "cell_type": "markdown",
   "metadata": {},
   "source": [
    "# Exercise 13.9. Early stopping cross-validation"
   ]
  },
  {
   "cell_type": "code",
   "execution_count": 8,
   "metadata": {},
   "outputs": [
    {
     "name": "stdout",
     "output_type": "stream",
     "text": [
      "(1, 21)\n",
      "(1, 21)\n"
     ]
    }
   ],
   "source": [
    "# load in dataset\n",
    "csvname = datapath + 'noisy_sin_sample.csv'\n",
    "data = np.loadtxt(csvname, delimiter = ',')\n",
    "x = data[:-1,:]\n",
    "y = data[-1:,:]\n",
    "\n",
    "print(np.shape(x))\n",
    "print(np.shape(y))"
   ]
  },
  {
   "cell_type": "markdown",
   "metadata": {},
   "source": [
    "# Exercise 13.10. Handwritten digit recognition using neural networks"
   ]
  },
  {
   "cell_type": "code",
   "execution_count": 9,
   "metadata": {},
   "outputs": [
    {
     "name": "stdout",
     "output_type": "stream",
     "text": [
      "(70000, 784)\n",
      "(70000, 1)\n"
     ]
    }
   ],
   "source": [
    "# get MNIST data from online repository\n",
    "from sklearn.datasets import fetch_openml\n",
    "x, y = fetch_openml('mnist_784', version=1, return_X_y=True)\n",
    "\n",
    "# convert string labels to integers\n",
    "y = np.array([int(v) for v in y])[:,np.newaxis]\n",
    "\n",
    "print(np.shape(x))\n",
    "print(np.shape(y))"
   ]
  }
 ],
 "metadata": {
  "kernelspec": {
   "display_name": "Python 3",
   "language": "python",
   "name": "python3"
  },
  "language_info": {
   "codemirror_mode": {
    "name": "ipython",
    "version": 3
   },
   "file_extension": ".py",
   "mimetype": "text/x-python",
   "name": "python",
   "nbconvert_exporter": "python",
   "pygments_lexer": "ipython3",
   "version": "3.6.6"
  },
  "toc": {
   "colors": {
    "hover_highlight": "#DAA520",
    "navigate_num": "#000000",
    "navigate_text": "#333333",
    "running_highlight": "#FF0000",
    "selected_highlight": "#FFD700",
    "sidebar_border": "#EEEEEE",
    "wrapper_background": "#FFFFFF"
   },
   "moveMenuLeft": true,
   "nav_menu": {
    "height": "104.833px",
    "width": "252px"
   },
   "navigate_menu": true,
   "number_sections": false,
   "sideBar": true,
   "threshold": 4,
   "toc_cell": true,
   "toc_section_display": "block",
   "toc_window_display": false,
   "widenNotebook": false
  }
 },
 "nbformat": 4,
 "nbformat_minor": 2
}
