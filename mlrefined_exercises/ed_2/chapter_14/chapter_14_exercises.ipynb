{
 "cells": [
  {
   "cell_type": "markdown",
   "metadata": {
    "toc": "true"
   },
   "source": [
    "# Table of Contents\n",
    " <p><div class=\"lev1 toc-item\"><a href=\"#Exercise-14.2.-Fitting-the-parameters-of-a-simple-regression-tree\" data-toc-modified-id=\"Exercise-14.2.-Fitting-the-parameters-of-a-simple-regression-tree-1\"><span class=\"toc-item-num\">1&nbsp;&nbsp;</span>Exercise 14.2. Fitting the parameters of a simple regression tree</a></div><div class=\"lev1 toc-item\"><a href=\"#Exercise-14.3.-Code-up-a-regression-tree\" data-toc-modified-id=\"Exercise-14.3.-Code-up-a-regression-tree-2\"><span class=\"toc-item-num\">2&nbsp;&nbsp;</span>Exercise 14.3. Code up a regression tree</a></div><div class=\"lev1 toc-item\"><a href=\"#Exercise-14.4.-Code-up-a-two-class-classification-tree\" data-toc-modified-id=\"Exercise-14.4.-Code-up-a-two-class-classification-tree-3\"><span class=\"toc-item-num\">3&nbsp;&nbsp;</span>Exercise 14.4. Code up a two-class classification tree</a></div><div class=\"lev1 toc-item\"><a href=\"#Exercise-14.5.-Code-up-a-multi-class-classification-tree\" data-toc-modified-id=\"Exercise-14.5.-Code-up-a-multi-class-classification-tree-4\"><span class=\"toc-item-num\">4&nbsp;&nbsp;</span>Exercise 14.5. Code up a multi-class classification tree</a></div><div class=\"lev1 toc-item\"><a href=\"#Exercise-14.6.-Gradient-boosting-for-regression\" data-toc-modified-id=\"Exercise-14.6.-Gradient-boosting-for-regression-5\"><span class=\"toc-item-num\">5&nbsp;&nbsp;</span>Exercise 14.6. Gradient boosting for regression</a></div><div class=\"lev1 toc-item\"><a href=\"#Exercise-14.8.-Random-forests\" data-toc-modified-id=\"Exercise-14.8.-Random-forests-6\"><span class=\"toc-item-num\">6&nbsp;&nbsp;</span>Exercise 14.8. Random forests</a></div><div class=\"lev1 toc-item\"><a href=\"#Exercise-14.10.-Naive-cross-validation\" data-toc-modified-id=\"Exercise-14.10.-Naive-cross-validation-7\"><span class=\"toc-item-num\">7&nbsp;&nbsp;</span>Exercise 14.10. Naive cross-validation</a></div>"
   ]
  },
  {
   "cell_type": "code",
   "execution_count": 1,
   "metadata": {},
   "outputs": [],
   "source": [
    "import autograd.numpy as np\n",
    "\n",
    "datapath = '../mlrefined_datasets/nonlinear_superlearn_datasets/'"
   ]
  },
  {
   "cell_type": "markdown",
   "metadata": {},
   "source": [
    "# Exercise 14.2. Fitting the parameters of a simple regression tree"
   ]
  },
  {
   "cell_type": "code",
   "execution_count": 2,
   "metadata": {},
   "outputs": [
    {
     "name": "stdout",
     "output_type": "stream",
     "text": [
      "(1, 9)\n",
      "(1, 9)\n"
     ]
    }
   ],
   "source": [
    "csvname = datapath + 'noisy_sin_subsample_raised_2.csv'\n",
    "\n",
    "data = np.loadtxt(csvname, delimiter = ',')\n",
    "x = data[:-1,:]\n",
    "y = data[-1:,:]\n",
    "\n",
    "print(np.shape(x))\n",
    "print(np.shape(y))"
   ]
  },
  {
   "cell_type": "markdown",
   "metadata": {},
   "source": [
    "# Exercise 14.3. Code up a regression tree"
   ]
  },
  {
   "cell_type": "code",
   "execution_count": 3,
   "metadata": {
    "scrolled": false
   },
   "outputs": [
    {
     "name": "stdout",
     "output_type": "stream",
     "text": [
      "(1, 9)\n",
      "(1, 9)\n"
     ]
    }
   ],
   "source": [
    "csvname = datapath + 'noisy_sin_subsample_2.csv'\n",
    "data = np.loadtxt(csvname, delimiter = ',')\n",
    "x = data[:-1,:]\n",
    "y = data[-1:,:]\n",
    "\n",
    "print(np.shape(x))\n",
    "print(np.shape(y))"
   ]
  },
  {
   "cell_type": "markdown",
   "metadata": {},
   "source": [
    "# Exercise 14.4. Code up a two-class classification tree"
   ]
  },
  {
   "cell_type": "code",
   "execution_count": 4,
   "metadata": {},
   "outputs": [
    {
     "name": "stdout",
     "output_type": "stream",
     "text": [
      "(2, 99)\n",
      "(1, 99)\n"
     ]
    }
   ],
   "source": [
    "csvname = datapath + 'new_circle_data.csv'\n",
    "data = np.loadtxt(csvname, delimiter = ',')\n",
    "x = data[:-1,:]\n",
    "y = data[-1:,:]\n",
    "\n",
    "print(np.shape(x))\n",
    "print(np.shape(y))"
   ]
  },
  {
   "cell_type": "markdown",
   "metadata": {},
   "source": [
    "# Exercise 14.5. Code up a multi-class classification tree"
   ]
  },
  {
   "cell_type": "code",
   "execution_count": 5,
   "metadata": {},
   "outputs": [
    {
     "name": "stdout",
     "output_type": "stream",
     "text": [
      "(2, 110)\n",
      "(1, 110)\n"
     ]
    }
   ],
   "source": [
    "csvname = datapath + '3_layercake_data.csv'\n",
    "data = np.loadtxt(csvname, delimiter = ',')\n",
    "x = data[:-1,:]\n",
    "y = data[-1:,:]\n",
    "\n",
    "print(np.shape(x))\n",
    "print(np.shape(y))"
   ]
  },
  {
   "cell_type": "markdown",
   "metadata": {},
   "source": [
    "# Exercise 14.6. Gradient boosting for regression"
   ]
  },
  {
   "cell_type": "code",
   "execution_count": 6,
   "metadata": {},
   "outputs": [
    {
     "name": "stdout",
     "output_type": "stream",
     "text": [
      "(1, 50)\n",
      "(1, 50)\n"
     ]
    }
   ],
   "source": [
    "csvname = datapath + 'universal_regression_samples_0.csv'\n",
    "\n",
    "data = np.loadtxt(csvname, delimiter = ',')\n",
    "x = data[:-1,:]\n",
    "y = data[-1:,:]\n",
    "\n",
    "print(np.shape(x))\n",
    "print(np.shape(y))"
   ]
  },
  {
   "cell_type": "code",
   "execution_count": 7,
   "metadata": {},
   "outputs": [
    {
     "name": "stdout",
     "output_type": "stream",
     "text": [
      "(1, 21)\n",
      "(1, 21)\n"
     ]
    }
   ],
   "source": [
    "csvname = datapath + 'noisy_sin_sample.csv'\n",
    "\n",
    "data = np.loadtxt(csvname, delimiter = ',')\n",
    "x = data[:-1,:]\n",
    "y = data[-1:,:]\n",
    "\n",
    "print(np.shape(x))\n",
    "print(np.shape(y))"
   ]
  },
  {
   "cell_type": "markdown",
   "metadata": {},
   "source": [
    "# Exercise 14.8. Random forests"
   ]
  },
  {
   "cell_type": "code",
   "execution_count": 8,
   "metadata": {},
   "outputs": [
    {
     "name": "stdout",
     "output_type": "stream",
     "text": [
      "(2, 99)\n",
      "(1, 99)\n"
     ]
    }
   ],
   "source": [
    "csvname = datapath + 'new_circle_data.csv'\n",
    "\n",
    "data = np.loadtxt(csvname, delimiter = ',')\n",
    "x = data[:-1,:]\n",
    "y = data[-1:,:]\n",
    "\n",
    "print(np.shape(x))\n",
    "print(np.shape(y))"
   ]
  },
  {
   "cell_type": "markdown",
   "metadata": {},
   "source": [
    "# Exercise 14.10. Naive cross-validation"
   ]
  },
  {
   "cell_type": "code",
   "execution_count": 9,
   "metadata": {
    "scrolled": false
   },
   "outputs": [
    {
     "name": "stdout",
     "output_type": "stream",
     "text": [
      "(1, 21)\n",
      "(1, 21)\n"
     ]
    }
   ],
   "source": [
    "csvname = datapath + 'noisy_sin_sample.csv'\n",
    "data = np.loadtxt(csvname, delimiter = ',')\n",
    "x = data[:-1,:]\n",
    "y = data[-1:,:]\n",
    "\n",
    "print(np.shape(x))\n",
    "print(np.shape(y))"
   ]
  }
 ],
 "metadata": {
  "kernelspec": {
   "display_name": "Python 3",
   "language": "python",
   "name": "python3"
  },
  "language_info": {
   "codemirror_mode": {
    "name": "ipython",
    "version": 3
   },
   "file_extension": ".py",
   "mimetype": "text/x-python",
   "name": "python",
   "nbconvert_exporter": "python",
   "pygments_lexer": "ipython3",
   "version": "3.6.6"
  },
  "toc": {
   "colors": {
    "hover_highlight": "#DAA520",
    "navigate_num": "#000000",
    "navigate_text": "#333333",
    "running_highlight": "#FF0000",
    "selected_highlight": "#FFD700",
    "sidebar_border": "#EEEEEE",
    "wrapper_background": "#FFFFFF"
   },
   "moveMenuLeft": true,
   "nav_menu": {
    "height": "12px",
    "width": "252px"
   },
   "navigate_menu": true,
   "number_sections": false,
   "sideBar": true,
   "threshold": 4,
   "toc_cell": true,
   "toc_section_display": "block",
   "toc_window_display": false,
   "widenNotebook": false
  }
 },
 "nbformat": 4,
 "nbformat_minor": 2
}
