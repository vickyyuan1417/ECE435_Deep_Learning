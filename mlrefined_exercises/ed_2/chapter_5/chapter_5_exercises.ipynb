{
 "cells": [
  {
   "cell_type": "markdown",
   "metadata": {
    "toc": "true"
   },
   "source": [
    "# Table of Contents\n",
    " <p><div class=\"lev1 toc-item\"><a href=\"#Exercise-5.1.-Fitting-a-regression-line-to-the-student-debt-data\" data-toc-modified-id=\"Exercise-5.1.-Fitting-a-regression-line-to-the-student-debt-data-1\"><span class=\"toc-item-num\">1&nbsp;&nbsp;</span>Exercise 5.1. Fitting a regression line to the student debt data</a></div><div class=\"lev1 toc-item\"><a href=\"#Exercise-5.2.-Kleiber’s-law-and-linear-regression\" data-toc-modified-id=\"Exercise-5.2.-Kleiber’s-law-and-linear-regression-2\"><span class=\"toc-item-num\">2&nbsp;&nbsp;</span>Exercise 5.2. Kleiber’s law and linear regression</a></div><div class=\"lev1 toc-item\"><a href=\"#Exercise-5.3.-The-Least-Squares-cost-function-and-a-single-Newton-step\" data-toc-modified-id=\"Exercise-5.3.-The-Least-Squares-cost-function-and-a-single-Newton-step-3\"><span class=\"toc-item-num\">3&nbsp;&nbsp;</span>Exercise 5.3. The Least Squares cost function and a single Newton step</a></div><div class=\"lev1 toc-item\"><a href=\"#Exercise-5.6.-Compare-the-Least-Squares-and-Least-Absolute-Deviation-costs\" data-toc-modified-id=\"Exercise-5.6.-Compare-the-Least-Squares-and-Least-Absolute-Deviation-costs-4\"><span class=\"toc-item-num\">4&nbsp;&nbsp;</span>Exercise 5.6. Compare the Least Squares and Least Absolute Deviation costs</a></div><div class=\"lev1 toc-item\"><a href=\"#Exercise-5.7.-Empirically-confirm-convexity-for-a-toy-dataset\" data-toc-modified-id=\"Exercise-5.7.-Empirically-confirm-convexity-for-a-toy-dataset-5\"><span class=\"toc-item-num\">5&nbsp;&nbsp;</span>Exercise 5.7. Empirically confirm convexity for a toy dataset</a></div><div class=\"lev1 toc-item\"><a href=\"#Exercise-5.9.-Housing-price-and-Automobile-Miles-per-Gallon-prediction\" data-toc-modified-id=\"Exercise-5.9.-Housing-price-and-Automobile-Miles-per-Gallon-prediction-6\"><span class=\"toc-item-num\">6&nbsp;&nbsp;</span>Exercise 5.9. Housing price and Automobile Miles-per-Gallon prediction</a></div><div class=\"lev1 toc-item\"><a href=\"#Exercise-5.11.-Multi-output-regression\" data-toc-modified-id=\"Exercise-5.11.-Multi-output-regression-7\"><span class=\"toc-item-num\">7&nbsp;&nbsp;</span>Exercise 5.11. Multi-output regression</a></div>"
   ]
  },
  {
   "cell_type": "code",
   "execution_count": 1,
   "metadata": {},
   "outputs": [],
   "source": [
    "# import autograd-wrapped numpy\n",
    "import autograd.numpy as np\n",
    "\n",
    "# datapath to data\n",
    "datapath = '../mlrefined_datasets/superlearn_datasets/'"
   ]
  },
  {
   "cell_type": "markdown",
   "metadata": {},
   "source": [
    "# Exercise 5.1. Fitting a regression line to the student debt data"
   ]
  },
  {
   "cell_type": "code",
   "execution_count": 2,
   "metadata": {},
   "outputs": [
    {
     "name": "stdout",
     "output_type": "stream",
     "text": [
      "(40,)\n",
      "(40,)\n"
     ]
    }
   ],
   "source": [
    "# import the dataset\n",
    "csvname = datapath + 'student_debt_data.csv'\n",
    "data = np.loadtxt(csvname,delimiter=',')\n",
    "\n",
    "# extract input - for this dataset, these are times\n",
    "x = data[:,0]\n",
    "\n",
    "# extract output - for this dataset, these are total student debt\n",
    "y = data[:,1]\n",
    "\n",
    "print(np.shape(x))\n",
    "print(np.shape(y))"
   ]
  },
  {
   "cell_type": "markdown",
   "metadata": {},
   "source": [
    "# Exercise 5.2. Kleiber’s law and linear regression"
   ]
  },
  {
   "cell_type": "code",
   "execution_count": 3,
   "metadata": {},
   "outputs": [
    {
     "name": "stdout",
     "output_type": "stream",
     "text": [
      "(1, 1498)\n",
      "(1, 1498)\n"
     ]
    }
   ],
   "source": [
    "# import the dataset\n",
    "csvname = datapath + 'kleibers_law_data.csv'\n",
    "data = np.loadtxt(csvname,delimiter=',')\n",
    "x = data[:-1,:]\n",
    "y = data[-1:,:]\n",
    "\n",
    "print(np.shape(x))\n",
    "print(np.shape(y))"
   ]
  },
  {
   "cell_type": "markdown",
   "metadata": {},
   "source": [
    "# Exercise 5.3. The Least Squares cost function and a single Newton step"
   ]
  },
  {
   "cell_type": "code",
   "execution_count": 4,
   "metadata": {},
   "outputs": [
    {
     "name": "stdout",
     "output_type": "stream",
     "text": [
      "(2, 50)\n",
      "(1, 50)\n"
     ]
    }
   ],
   "source": [
    "# load in data\n",
    "csvname = datapath + '3d_linregress_data.csv'\n",
    "data = np.loadtxt(csvname,delimiter=',')\n",
    "x = data[:-1,:]\n",
    "y = data[-1:,:] \n",
    "\n",
    "print(np.shape(x))\n",
    "print(np.shape(y))"
   ]
  },
  {
   "cell_type": "markdown",
   "metadata": {},
   "source": [
    "# Exercise 5.6. Compare the Least Squares and Least Absolute Deviation costs"
   ]
  },
  {
   "cell_type": "code",
   "execution_count": 5,
   "metadata": {},
   "outputs": [
    {
     "name": "stdout",
     "output_type": "stream",
     "text": [
      "(1, 10)\n",
      "(1, 10)\n"
     ]
    }
   ],
   "source": [
    "# load in dataset\n",
    "data = np.loadtxt(datapath + 'regression_outliers.csv',delimiter = ',')\n",
    "x = data[:-1,:]\n",
    "y = data[-1:,:] \n",
    "\n",
    "print(np.shape(x))\n",
    "print(np.shape(y))"
   ]
  },
  {
   "cell_type": "markdown",
   "metadata": {},
   "source": [
    "# Exercise 5.7. Empirically confirm convexity for a toy dataset"
   ]
  },
  {
   "cell_type": "code",
   "execution_count": 6,
   "metadata": {},
   "outputs": [
    {
     "name": "stdout",
     "output_type": "stream",
     "text": [
      "(1, 10)\n",
      "(1, 10)\n"
     ]
    }
   ],
   "source": [
    "# load in dataset\n",
    "data = np.loadtxt(datapath + 'regression_outliers.csv',delimiter = ',')\n",
    "x = data[:-1,:]\n",
    "y = data[-1:,:] \n",
    "\n",
    "print(np.shape(x))\n",
    "print(np.shape(y))"
   ]
  },
  {
   "cell_type": "markdown",
   "metadata": {},
   "source": [
    "# Exercise 5.9. Housing price and Automobile Miles-per-Gallon prediction"
   ]
  },
  {
   "cell_type": "code",
   "execution_count": 7,
   "metadata": {},
   "outputs": [
    {
     "name": "stdout",
     "output_type": "stream",
     "text": [
      "(13, 506)\n",
      "(1, 506)\n"
     ]
    }
   ],
   "source": [
    "# import the dataset\n",
    "csvname =  datapath + 'boston_housing.csv'\n",
    "data = np.loadtxt(csvname,delimiter=',')\n",
    "x = data[:-1,:]\n",
    "y = data[-1:,:]\n",
    "\n",
    "print(np.shape(x))\n",
    "print(np.shape(y))"
   ]
  },
  {
   "cell_type": "code",
   "execution_count": 8,
   "metadata": {},
   "outputs": [
    {
     "name": "stdout",
     "output_type": "stream",
     "text": [
      "(7, 398)\n",
      "(1, 398)\n"
     ]
    }
   ],
   "source": [
    "# import the dataset\n",
    "csvname =  datapath + 'auto_data.csv'\n",
    "data = np.loadtxt(csvname,delimiter=',')\n",
    "x = data[:-1,:]\n",
    "y = data[-1:,:]\n",
    "\n",
    "print(np.shape(x))\n",
    "print(np.shape(y))"
   ]
  },
  {
   "cell_type": "markdown",
   "metadata": {},
   "source": [
    "# Exercise 5.11. Multi-output regression"
   ]
  },
  {
   "cell_type": "code",
   "execution_count": 9,
   "metadata": {},
   "outputs": [
    {
     "name": "stdout",
     "output_type": "stream",
     "text": [
      "(2, 100)\n",
      "(2, 100)\n"
     ]
    }
   ],
   "source": [
    "# load in data\n",
    "csvname = datapath + 'linear_2output_regression.csv'\n",
    "data = np.loadtxt(csvname,delimiter=',')\n",
    "x = data[:2,:]\n",
    "y = data[2:,:]\n",
    "\n",
    "print(np.shape(x))\n",
    "print(np.shape(y))"
   ]
  }
 ],
 "metadata": {
  "kernelspec": {
   "display_name": "Python 3",
   "language": "python",
   "name": "python3"
  },
  "language_info": {
   "codemirror_mode": {
    "name": "ipython",
    "version": 3
   },
   "file_extension": ".py",
   "mimetype": "text/x-python",
   "name": "python",
   "nbconvert_exporter": "python",
   "pygments_lexer": "ipython3",
   "version": "3.6.6"
  },
  "toc": {
   "colors": {
    "hover_highlight": "#DAA520",
    "navigate_num": "#000000",
    "navigate_text": "#333333",
    "running_highlight": "#FF0000",
    "selected_highlight": "#FFD700",
    "sidebar_border": "#EEEEEE",
    "wrapper_background": "#FFFFFF"
   },
   "moveMenuLeft": true,
   "nav_menu": {
    "height": "141.967px",
    "width": "252px"
   },
   "navigate_menu": true,
   "number_sections": false,
   "sideBar": true,
   "threshold": 4,
   "toc_cell": true,
   "toc_position": {
    "height": "631.733px",
    "left": "0px",
    "right": "1228px",
    "top": "116.267px",
    "width": "212px"
   },
   "toc_section_display": "block",
   "toc_window_display": false,
   "widenNotebook": false
  }
 },
 "nbformat": 4,
 "nbformat_minor": 2
}
