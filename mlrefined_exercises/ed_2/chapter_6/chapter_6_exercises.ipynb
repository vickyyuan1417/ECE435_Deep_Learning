{
 "cells": [
  {
   "cell_type": "markdown",
   "metadata": {
    "toc": "true"
   },
   "source": [
    "# Table of Contents\n",
    " <p><div class=\"lev1 toc-item\"><a href=\"#Exercise-6.1.-Implementing-sigmoidal-Least-Squares-cost\" data-toc-modified-id=\"Exercise-6.1.-Implementing-sigmoidal-Least-Squares-cost-1\"><span class=\"toc-item-num\">1&nbsp;&nbsp;</span>Exercise 6.1. Implementing sigmoidal Least Squares cost</a></div><div class=\"lev1 toc-item\"><a href=\"#Exercise-6.3.-Implementing-the-Cross-Entropy-cost\" data-toc-modified-id=\"Exercise-6.3.-Implementing-the-Cross-Entropy-cost-2\"><span class=\"toc-item-num\">2&nbsp;&nbsp;</span>Exercise 6.3. Implementing the Cross Entropy cost</a></div><div class=\"lev1 toc-item\"><a href=\"#Exercise-6.7.-Implementing-the-Softmax-cost\" data-toc-modified-id=\"Exercise-6.7.-Implementing-the-Softmax-cost-3\"><span class=\"toc-item-num\">3&nbsp;&nbsp;</span>Exercise 6.7. Implementing the Softmax cost</a></div><div class=\"lev1 toc-item\"><a href=\"#Exercise-6.8.-Implementing-the-Log-Error-version-of-Softmax\" data-toc-modified-id=\"Exercise-6.8.-Implementing-the-Log-Error-version-of-Softmax-4\"><span class=\"toc-item-num\">4&nbsp;&nbsp;</span>Exercise 6.8. Implementing the Log Error version of Softmax</a></div><div class=\"lev1 toc-item\"><a href=\"#Exercise-6.9.-Using-gradient-descent-to-minimize-the-Perceptron-cost\" data-toc-modified-id=\"Exercise-6.9.-Using-gradient-descent-to-minimize-the-Perceptron-cost-5\"><span class=\"toc-item-num\">5&nbsp;&nbsp;</span>Exercise 6.9. Using gradient descent to minimize the Perceptron cost</a></div><div class=\"lev1 toc-item\"><a href=\"#Exercise-6.13.-Compare-the-efficacy-of-two-class-cost-functions-I\" data-toc-modified-id=\"Exercise-6.13.-Compare-the-efficacy-of-two-class-cost-functions-I-6\"><span class=\"toc-item-num\">6&nbsp;&nbsp;</span>Exercise 6.13. Compare the efficacy of two-class cost functions I</a></div><div class=\"lev1 toc-item\"><a href=\"#Exercise-6.14.-Compare-the-efficacy-of-two-class-cost-functions-II\" data-toc-modified-id=\"Exercise-6.14.-Compare-the-efficacy-of-two-class-cost-functions-II-7\"><span class=\"toc-item-num\">7&nbsp;&nbsp;</span>Exercise 6.14. Compare the efficacy of two-class cost functions II</a></div><div class=\"lev1 toc-item\"><a href=\"#Exercise-6.15.-Credit-check\" data-toc-modified-id=\"Exercise-6.15.-Credit-check-8\"><span class=\"toc-item-num\">8&nbsp;&nbsp;</span>Exercise 6.15. Credit check</a></div><div class=\"lev1 toc-item\"><a href=\"#Exercise-6.16.-Weighted-classification-and-balanced-accuracy\" data-toc-modified-id=\"Exercise-6.16.-Weighted-classification-and-balanced-accuracy-9\"><span class=\"toc-item-num\">9&nbsp;&nbsp;</span>Exercise 6.16. Weighted classification and balanced accuracy</a></div>"
   ]
  },
  {
   "cell_type": "code",
   "execution_count": 1,
   "metadata": {},
   "outputs": [],
   "source": [
    "# import autograd-wrapped numpy\n",
    "import autograd.numpy as np\n",
    "\n",
    "# datapath to data\n",
    "datapath = '../mlrefined_datasets/superlearn_datasets/'"
   ]
  },
  {
   "cell_type": "markdown",
   "metadata": {},
   "source": [
    "# Exercise 6.1. Implementing sigmoidal Least Squares cost"
   ]
  },
  {
   "cell_type": "code",
   "execution_count": 2,
   "metadata": {},
   "outputs": [
    {
     "name": "stdout",
     "output_type": "stream",
     "text": [
      "(1, 11)\n",
      "(1, 11)\n"
     ]
    }
   ],
   "source": [
    "# load in data \n",
    "csvname = datapath + '2d_classification_data_v1_entropy.csv'\n",
    "data = np.loadtxt(csvname,delimiter = ',')\n",
    "\n",
    "# get input/output pairs\n",
    "x = data[:-1,:]\n",
    "y = data[-1:,:] \n",
    "\n",
    "print(np.shape(x))\n",
    "print(np.shape(y))"
   ]
  },
  {
   "cell_type": "markdown",
   "metadata": {
    "collapsed": true
   },
   "source": [
    "# Exercise 6.3. Implementing the Cross Entropy cost"
   ]
  },
  {
   "cell_type": "code",
   "execution_count": 3,
   "metadata": {},
   "outputs": [
    {
     "name": "stdout",
     "output_type": "stream",
     "text": [
      "(1, 11)\n",
      "(1, 11)\n"
     ]
    }
   ],
   "source": [
    "# load in data\n",
    "csvname = datapath + '2d_classification_data_v1_entropy.csv'\n",
    "data = np.loadtxt(csvname,delimiter = ',')\n",
    "\n",
    "# get input/output pairs\n",
    "x = data[:-1,:]\n",
    "y = data[-1:,:] \n",
    "\n",
    "print(np.shape(x))\n",
    "print(np.shape(y))"
   ]
  },
  {
   "cell_type": "markdown",
   "metadata": {},
   "source": [
    "# Exercise 6.7. Implementing the Softmax cost"
   ]
  },
  {
   "cell_type": "code",
   "execution_count": 4,
   "metadata": {},
   "outputs": [
    {
     "name": "stdout",
     "output_type": "stream",
     "text": [
      "(1, 11)\n",
      "(1, 11)\n"
     ]
    }
   ],
   "source": [
    "# load in data\n",
    "csvname = datapath + '2d_classification_data_v1.csv'\n",
    "data = np.loadtxt(csvname,delimiter = ',')\n",
    "\n",
    "# take input/output pairs from data\n",
    "x = data[:-1,:]\n",
    "y = data[-1:,:] \n",
    "\n",
    "print(np.shape(x))\n",
    "print(np.shape(y))"
   ]
  },
  {
   "cell_type": "markdown",
   "metadata": {},
   "source": [
    "# Exercise 6.8. Implementing the Log Error version of Softmax"
   ]
  },
  {
   "cell_type": "code",
   "execution_count": 5,
   "metadata": {},
   "outputs": [
    {
     "name": "stdout",
     "output_type": "stream",
     "text": [
      "(2, 100)\n",
      "(1, 100)\n"
     ]
    }
   ],
   "source": [
    "# load in dataset\n",
    "csvname = datapath + '3d_classification_data_v0.csv'\n",
    "data = np.loadtxt(csvname,delimiter = ',')\n",
    "x = data[:-1,:]\n",
    "y = data[-1:,:] \n",
    "\n",
    "print(np.shape(x))\n",
    "print(np.shape(y))"
   ]
  },
  {
   "cell_type": "markdown",
   "metadata": {},
   "source": [
    "# Exercise 6.9. Using gradient descent to minimize the Perceptron cost"
   ]
  },
  {
   "cell_type": "code",
   "execution_count": 6,
   "metadata": {},
   "outputs": [
    {
     "name": "stdout",
     "output_type": "stream",
     "text": [
      "(2, 100)\n",
      "(1, 100)\n"
     ]
    }
   ],
   "source": [
    "# load in dataset\n",
    "csvname = datapath + '3d_classification_data_v0.csv'\n",
    "data = np.loadtxt(csvname,delimiter = ',')\n",
    "x = data[:-1,:]\n",
    "y = data[-1:,:] \n",
    "\n",
    "print(np.shape(x))\n",
    "print(np.shape(y))"
   ]
  },
  {
   "cell_type": "markdown",
   "metadata": {},
   "source": [
    "# Exercise 6.13. Compare the efficacy of two-class cost functions I"
   ]
  },
  {
   "cell_type": "markdown",
   "metadata": {},
   "source": [
    "Below we load in the breast cancer dataset -  [a description of which you can find here](https://archive.ics.uci.edu/ml/datasets/breast+cancer+wisconsin+(original)).  The input datapoints are stacked *column-wise* in this dataset, with the final row being the label of each point."
   ]
  },
  {
   "cell_type": "code",
   "execution_count": 7,
   "metadata": {},
   "outputs": [
    {
     "name": "stdout",
     "output_type": "stream",
     "text": [
      "(8, 699)\n",
      "(1, 699)\n"
     ]
    }
   ],
   "source": [
    "# data input\n",
    "csvname = datapath + 'breast_cancer_data.csv'\n",
    "data = np.loadtxt(csvname,delimiter = ',')\n",
    "\n",
    "# get input and output of dataset\n",
    "x = data[:-1,:]\n",
    "y = data[-1:,:] \n",
    "\n",
    "print(np.shape(x))\n",
    "print(np.shape(y))"
   ]
  },
  {
   "cell_type": "markdown",
   "metadata": {},
   "source": [
    "# Exercise 6.14. Compare the efficacy of two-class cost functions II"
   ]
  },
  {
   "cell_type": "markdown",
   "metadata": {},
   "source": [
    "Below we load in a spam email dataset -  [a description of which you can find here](https://archive.ics.uci.edu/ml/datasets/Spambase).  The input datapoints are stacked *column-wise* in this dataset, with the final row being the label of each point."
   ]
  },
  {
   "cell_type": "code",
   "execution_count": 8,
   "metadata": {},
   "outputs": [
    {
     "name": "stdout",
     "output_type": "stream",
     "text": [
      "(57, 4601)\n",
      "(1, 4601)\n"
     ]
    }
   ],
   "source": [
    "# data input\n",
    "csvname = datapath + 'spambase_data.csv'\n",
    "data = np.loadtxt(csvname,delimiter = ',')\n",
    "\n",
    "# get input and output of dataset\n",
    "x = data[:-1,:]\n",
    "y = data[-1:,:] \n",
    "\n",
    "print(np.shape(x))\n",
    "print(np.shape(y))"
   ]
  },
  {
   "cell_type": "markdown",
   "metadata": {
    "collapsed": true
   },
   "source": [
    "# Exercise 6.15. Credit check"
   ]
  },
  {
   "cell_type": "code",
   "execution_count": 9,
   "metadata": {},
   "outputs": [
    {
     "name": "stdout",
     "output_type": "stream",
     "text": [
      "(20, 1000)\n",
      "(1, 1000)\n"
     ]
    }
   ],
   "source": [
    "# load in dataset\n",
    "csvname = datapath + 'credit_dataset.csv'\n",
    "data = np.loadtxt(csvname,delimiter = ',')\n",
    "x = data[:-1,:]\n",
    "y = data[-1:,:] \n",
    "\n",
    "print(np.shape(x))\n",
    "print(np.shape(y))"
   ]
  },
  {
   "cell_type": "markdown",
   "metadata": {},
   "source": [
    "# Exercise 6.16. Weighted classification and balanced accuracy"
   ]
  },
  {
   "cell_type": "code",
   "execution_count": 10,
   "metadata": {},
   "outputs": [
    {
     "name": "stdout",
     "output_type": "stream",
     "text": [
      "(2, 55)\n",
      "(1, 55)\n"
     ]
    }
   ],
   "source": [
    "# data input\n",
    "csvname = datapath + '3d_classification_data_v2_mbalanced.csv'\n",
    "data1 = np.loadtxt(csvname,delimiter = ',')\n",
    "\n",
    "# get input and output of dataset\n",
    "x = data1[:-1,:]\n",
    "y = data1[-1:,:] \n",
    "\n",
    "print(np.shape(x))\n",
    "print(np.shape(y))"
   ]
  }
 ],
 "metadata": {
  "kernelspec": {
   "display_name": "Python 3",
   "language": "python",
   "name": "python3"
  },
  "language_info": {
   "codemirror_mode": {
    "name": "ipython",
    "version": 3
   },
   "file_extension": ".py",
   "mimetype": "text/x-python",
   "name": "python",
   "nbconvert_exporter": "python",
   "pygments_lexer": "ipython3",
   "version": "3.6.6"
  },
  "toc": {
   "colors": {
    "hover_highlight": "#DAA520",
    "navigate_num": "#000000",
    "navigate_text": "#333333",
    "running_highlight": "#FF0000",
    "selected_highlight": "#FFD700",
    "sidebar_border": "#EEEEEE",
    "wrapper_background": "#FFFFFF"
   },
   "moveMenuLeft": true,
   "nav_menu": {
    "height": "364.767px",
    "width": "252px"
   },
   "navigate_menu": true,
   "number_sections": false,
   "sideBar": false,
   "threshold": 4,
   "toc_cell": true,
   "toc_position": {
    "height": "315.867px",
    "left": "1px",
    "right": "1227px",
    "top": "116.267px",
    "width": "212px"
   },
   "toc_section_display": "block",
   "toc_window_display": false,
   "widenNotebook": false
  }
 },
 "nbformat": 4,
 "nbformat_minor": 2
}
