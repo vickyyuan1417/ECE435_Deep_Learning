{
 "cells": [
  {
   "cell_type": "markdown",
   "metadata": {
    "toc": "true"
   },
   "source": [
    "# Table of Contents\n",
    " <p><div class=\"lev1 toc-item\"><a href=\"#Exercise-7.2.--One-versus-All-classification\" data-toc-modified-id=\"Exercise-7.2.--One-versus-All-classification-1\"><span class=\"toc-item-num\">1&nbsp;&nbsp;</span>Exercise 7.2.  One-versus-All classification</a></div><div class=\"lev1 toc-item\"><a href=\"#Exercise-7.3.--Multi-class-Perceptron\" data-toc-modified-id=\"Exercise-7.3.--Multi-class-Perceptron-2\"><span class=\"toc-item-num\">2&nbsp;&nbsp;</span>Exercise 7.3.  Multi-class Perceptron</a></div><div class=\"lev1 toc-item\"><a href=\"#Exercise-7.5.-Multi-class-Softmax\" data-toc-modified-id=\"Exercise-7.5.-Multi-class-Softmax-3\"><span class=\"toc-item-num\">3&nbsp;&nbsp;</span>Exercise 7.5. Multi-class Softmax</a></div><div class=\"lev1 toc-item\"><a href=\"#Exercise-7.10.--Weighted-multi-class-Softmax\" data-toc-modified-id=\"Exercise-7.10.--Weighted-multi-class-Softmax-4\"><span class=\"toc-item-num\">4&nbsp;&nbsp;</span>Exercise 7.10.  Weighted multi-class Softmax</a></div><div class=\"lev1 toc-item\"><a href=\"#Exercise-7.11.--Recognizing-handwritten-digits\" data-toc-modified-id=\"Exercise-7.11.--Recognizing-handwritten-digits-5\"><span class=\"toc-item-num\">5&nbsp;&nbsp;</span>Exercise 7.11.  Recognizing handwritten digits</a></div>"
   ]
  },
  {
   "cell_type": "code",
   "execution_count": 1,
   "metadata": {},
   "outputs": [],
   "source": [
    "# import autograd-wrapped numpy\n",
    "import autograd.numpy as np\n",
    "\n",
    "# datapath to data\n",
    "datapath = '../mlrefined_datasets/superlearn_datasets/'"
   ]
  },
  {
   "cell_type": "markdown",
   "metadata": {},
   "source": [
    "# Exercise 7.2.  One-versus-All classification"
   ]
  },
  {
   "cell_type": "code",
   "execution_count": 2,
   "metadata": {},
   "outputs": [
    {
     "name": "stdout",
     "output_type": "stream",
     "text": [
      "(2, 40)\n",
      "(1, 40)\n"
     ]
    }
   ],
   "source": [
    "# load in dataset\n",
    "csvname = datapath + '4class_data.csv'\n",
    "data = np.loadtxt(csvname,delimiter = ',');\n",
    "\n",
    "# get input/output pairs\n",
    "x = data[:-1,:]\n",
    "y = data[-1:,:] \n",
    "\n",
    "print(np.shape(x))\n",
    "print(np.shape(y))"
   ]
  },
  {
   "cell_type": "markdown",
   "metadata": {},
   "source": [
    "# Exercise 7.3.  Multi-class Perceptron"
   ]
  },
  {
   "cell_type": "code",
   "execution_count": 3,
   "metadata": {},
   "outputs": [
    {
     "name": "stdout",
     "output_type": "stream",
     "text": [
      "(2, 30)\n",
      "(1, 30)\n"
     ]
    }
   ],
   "source": [
    "# load in dataset\n",
    "data = np.loadtxt(datapath + '3class_data.csv',delimiter = ',')\n",
    "\n",
    "# get input/output pairs\n",
    "x = data[:-1,:]\n",
    "y = data[-1:,:]\n",
    "\n",
    "print(np.shape(x))\n",
    "print(np.shape(y))"
   ]
  },
  {
   "cell_type": "markdown",
   "metadata": {},
   "source": [
    "# Exercise 7.5. Multi-class Softmax"
   ]
  },
  {
   "cell_type": "code",
   "execution_count": 4,
   "metadata": {},
   "outputs": [
    {
     "name": "stdout",
     "output_type": "stream",
     "text": [
      "(2, 40)\n",
      "(1, 40)\n"
     ]
    }
   ],
   "source": [
    "# load in dataset\n",
    "data = np.loadtxt(datapath + '4class_data.csv',delimiter = ',')\n",
    "\n",
    "# get input/output pairs\n",
    "x = data[:-1,:]\n",
    "y = data[-1:,:] \n",
    "\n",
    "print(np.shape(x))\n",
    "print(np.shape(y))"
   ]
  },
  {
   "cell_type": "markdown",
   "metadata": {},
   "source": [
    "# Exercise 7.10.  Weighted multi-class Softmax"
   ]
  },
  {
   "cell_type": "code",
   "execution_count": 5,
   "metadata": {},
   "outputs": [],
   "source": [
    "# weighted multiclass softmax\n",
    "def multiclass_softmax(self,w,x,y,beta,iter):     \n",
    "    # get subset of points\n",
    "    x_p = x[:,iter]\n",
    "    y_p = y[:,iter]\n",
    "    beta_p = beta[:,iter]\n",
    "\n",
    "    # pre-compute predictions on all points\n",
    "    all_evals = model(x_p,w)\n",
    "\n",
    "    # compute softmax across data points\n",
    "    a = np.log(np.sum(np.exp(all_evals),axis = 0)) \n",
    "\n",
    "    # compute cost in compact form using numpy broadcasting\n",
    "    b = all_evals[y_p.astype(int).flatten(),np.arange(np.size(y_p))]\n",
    "    cost = np.sum(beta_p*(a - b))\n",
    "\n",
    "    # return average\n",
    "    return cost/float(np.size(y_p))"
   ]
  },
  {
   "cell_type": "markdown",
   "metadata": {},
   "source": [
    "# Exercise 7.11.  Recognizing handwritten digits"
   ]
  },
  {
   "cell_type": "code",
   "execution_count": 6,
   "metadata": {},
   "outputs": [
    {
     "name": "stdout",
     "output_type": "stream",
     "text": [
      "(70000, 784)\n",
      "(70000, 1)\n"
     ]
    }
   ],
   "source": [
    "# get MNIST data from online repository\n",
    "from sklearn.datasets import fetch_openml\n",
    "x, y = fetch_openml('mnist_784', version=1, return_X_y=True)\n",
    "\n",
    "# convert string labels to integers\n",
    "y = np.array([int(v) for v in y])[:,np.newaxis]\n",
    "\n",
    "print(np.shape(x))\n",
    "print(np.shape(y))"
   ]
  }
 ],
 "metadata": {
  "kernelspec": {
   "display_name": "Python 3",
   "language": "python",
   "name": "python3"
  },
  "language_info": {
   "codemirror_mode": {
    "name": "ipython",
    "version": 3
   },
   "file_extension": ".py",
   "mimetype": "text/x-python",
   "name": "python",
   "nbconvert_exporter": "python",
   "pygments_lexer": "ipython3",
   "version": "3.6.6"
  },
  "toc": {
   "colors": {
    "hover_highlight": "#DAA520",
    "navigate_num": "#000000",
    "navigate_text": "#333333",
    "running_highlight": "#FF0000",
    "selected_highlight": "#FFD700",
    "sidebar_border": "#EEEEEE",
    "wrapper_background": "#FFFFFF"
   },
   "moveMenuLeft": true,
   "nav_menu": {
    "height": "309.067px",
    "width": "252px"
   },
   "navigate_menu": true,
   "number_sections": false,
   "sideBar": true,
   "threshold": 4,
   "toc_cell": true,
   "toc_section_display": "block",
   "toc_window_display": false,
   "widenNotebook": false
  }
 },
 "nbformat": 4,
 "nbformat_minor": 2
}
