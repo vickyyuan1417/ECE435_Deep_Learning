{
 "cells": [
  {
   "cell_type": "markdown",
   "metadata": {
    "toc": "true"
   },
   "source": [
    "# Table of Contents\n",
    " <p><div class=\"lev1 toc-item\"><a href=\"#Exercise-8.2.--Encoding-data\" data-toc-modified-id=\"Exercise-8.2.--Encoding-data-1\"><span class=\"toc-item-num\">1&nbsp;&nbsp;</span>Exercise 8.2.  Encoding data</a></div><div class=\"lev1 toc-item\"><a href=\"#Exercise-8.4.-Nonconvexity-of-the-linear-Autoencoder\" data-toc-modified-id=\"Exercise-8.4.-Nonconvexity-of-the-linear-Autoencoder-2\"><span class=\"toc-item-num\">2&nbsp;&nbsp;</span>Exercise 8.4. Nonconvexity of the linear Autoencoder</a></div><div class=\"lev1 toc-item\"><a href=\"#Exercise-8.5.-Minimizing-the-linear-Autoencoder-over-a-toy-dataset\" data-toc-modified-id=\"Exercise-8.5.-Minimizing-the-linear-Autoencoder-over-a-toy-dataset-3\"><span class=\"toc-item-num\">3&nbsp;&nbsp;</span>Exercise 8.5. Minimizing the linear Autoencoder over a toy dataset</a></div><div class=\"lev1 toc-item\"><a href=\"#Exercise-8.6.-Producing-a-PCA-basis\" data-toc-modified-id=\"Exercise-8.6.-Producing-a-PCA-basis-4\"><span class=\"toc-item-num\">4&nbsp;&nbsp;</span>Exercise 8.6. Producing a PCA basis</a></div><div class=\"lev1 toc-item\"><a href=\"#Exercise-8.7.-A-warning-example\" data-toc-modified-id=\"Exercise-8.7.-A-warning-example-5\"><span class=\"toc-item-num\">5&nbsp;&nbsp;</span>Exercise 8.7. A warning example</a></div><div class=\"lev1 toc-item\"><a href=\"#Exercise-8.8.-Perform-K-Means\" data-toc-modified-id=\"Exercise-8.8.-Perform-K-Means-6\"><span class=\"toc-item-num\">6&nbsp;&nbsp;</span>Exercise 8.8. Perform K-Means</a></div><div class=\"lev1 toc-item\"><a href=\"#Exercise-8.9.-Making-a-scree-plot\" data-toc-modified-id=\"Exercise-8.9.-Making-a-scree-plot-7\"><span class=\"toc-item-num\">7&nbsp;&nbsp;</span>Exercise 8.9. Making a scree plot</a></div>"
   ]
  },
  {
   "cell_type": "code",
   "execution_count": 1,
   "metadata": {},
   "outputs": [],
   "source": [
    "# import autograd-wrapped numpy\n",
    "import autograd.numpy as np\n",
    "\n",
    "# datapath to data\n",
    "datapath = '../mlrefined_datasets/unsuperlearn_datasets/'"
   ]
  },
  {
   "cell_type": "markdown",
   "metadata": {},
   "source": [
    "# Exercise 8.2.  Encoding data"
   ]
  },
  {
   "cell_type": "code",
   "execution_count": 2,
   "metadata": {},
   "outputs": [
    {
     "name": "stdout",
     "output_type": "stream",
     "text": [
      "(2, 50)\n"
     ]
    }
   ],
   "source": [
    "# load in dataset\n",
    "csvname = datapath + '2d_span_data.csv'\n",
    "x = np.loadtxt(csvname, delimiter = ',')\n",
    "\n",
    "print(np.shape(x))"
   ]
  },
  {
   "cell_type": "markdown",
   "metadata": {},
   "source": [
    "# Exercise 8.4. Nonconvexity of the linear Autoencoder"
   ]
  },
  {
   "cell_type": "code",
   "execution_count": 3,
   "metadata": {},
   "outputs": [
    {
     "name": "stdout",
     "output_type": "stream",
     "text": [
      "(2, 50)\n"
     ]
    }
   ],
   "source": [
    "# load in dataset\n",
    "csvname = datapath + '2d_span_data_centered.csv'\n",
    "x = np.loadtxt(csvname, delimiter = ',')\n",
    "\n",
    "print(np.shape(x))"
   ]
  },
  {
   "cell_type": "markdown",
   "metadata": {},
   "source": [
    "# Exercise 8.5. Minimizing the linear Autoencoder over a toy dataset"
   ]
  },
  {
   "cell_type": "code",
   "execution_count": 4,
   "metadata": {},
   "outputs": [
    {
     "name": "stdout",
     "output_type": "stream",
     "text": [
      "(2, 50)\n"
     ]
    }
   ],
   "source": [
    "# load in dataset\n",
    "csvname = datapath + '2d_span_data_centered.csv'\n",
    "x = np.loadtxt(csvname, delimiter = ',')\n",
    "\n",
    "print(np.shape(x))"
   ]
  },
  {
   "cell_type": "markdown",
   "metadata": {
    "collapsed": true
   },
   "source": [
    "# Exercise 8.6. Producing a PCA basis"
   ]
  },
  {
   "cell_type": "code",
   "execution_count": 5,
   "metadata": {},
   "outputs": [
    {
     "name": "stdout",
     "output_type": "stream",
     "text": [
      "(2, 50)\n"
     ]
    }
   ],
   "source": [
    "# load in dataset\n",
    "csvname = datapath + '2d_span_data.csv'\n",
    "x = np.loadtxt(csvname, delimiter = ',')\n",
    "\n",
    "print(np.shape(x))"
   ]
  },
  {
   "cell_type": "markdown",
   "metadata": {
    "collapsed": true
   },
   "source": [
    "# Exercise 8.7. A warning example"
   ]
  },
  {
   "cell_type": "code",
   "execution_count": 6,
   "metadata": {},
   "outputs": [
    {
     "name": "stdout",
     "output_type": "stream",
     "text": [
      "(23, 2)\n",
      "(23,)\n"
     ]
    }
   ],
   "source": [
    "# load in dataset\n",
    "csvname = datapath + 'PCA_class_data.csv'\n",
    "data = np.loadtxt(csvname,delimiter = ',');\n",
    "x = data[:,:2]\n",
    "y = data[:,-1]\n",
    "\n",
    "print(np.shape(x))\n",
    "print(np.shape(y))"
   ]
  },
  {
   "cell_type": "markdown",
   "metadata": {
    "collapsed": true
   },
   "source": [
    "# Exercise 8.8. Perform K-Means"
   ]
  },
  {
   "cell_type": "code",
   "execution_count": 7,
   "metadata": {},
   "outputs": [
    {
     "data": {
      "image/png": "[encoded data removed]",
      "text/plain": [
       "<Figure size 432x288 with 1 Axes>"
      ]
     },
     "metadata": {
      "needs_background": "light"
     },
     "output_type": "display_data"
    }
   ],
   "source": [
    "import matplotlib.pyplot as plt\n",
    "from sklearn import datasets\n",
    "%matplotlib inline\n",
    "\n",
    "# Loading the data\n",
    "P = 50 # Number of data points\n",
    "blobs = datasets.make_blobs(n_samples=P,centers = 3,random_state=10)\n",
    "data = np.transpose(blobs[0])\n",
    "\n",
    "# scatter plot the dataset \n",
    "plt.scatter(data[0,:],data[1,:],c = 'k')\n",
    "plt.show()"
   ]
  },
  {
   "cell_type": "markdown",
   "metadata": {
    "collapsed": true
   },
   "source": [
    "# Exercise 8.9. Making a scree plot"
   ]
  },
  {
   "cell_type": "code",
   "execution_count": 8,
   "metadata": {},
   "outputs": [],
   "source": [
    "# Loading the data\n",
    "P = 50 # Number of data points\n",
    "data = datasets.make_blobs(n_samples=P, random_state=1, centers = 3)"
   ]
  }
 ],
 "metadata": {
  "kernelspec": {
   "display_name": "Python 3",
   "language": "python",
   "name": "python3"
  },
  "language_info": {
   "codemirror_mode": {
    "name": "ipython",
    "version": 3
   },
   "file_extension": ".py",
   "mimetype": "text/x-python",
   "name": "python",
   "nbconvert_exporter": "python",
   "pygments_lexer": "ipython3",
   "version": "3.6.6"
  },
  "toc": {
   "colors": {
    "hover_highlight": "#DAA520",
    "navigate_num": "#000000",
    "navigate_text": "#333333",
    "running_highlight": "#FF0000",
    "selected_highlight": "#FFD700",
    "sidebar_border": "#EEEEEE",
    "wrapper_background": "#FFFFFF"
   },
   "moveMenuLeft": true,
   "nav_menu": {
    "height": "141.967px",
    "width": "252px"
   },
   "navigate_menu": true,
   "number_sections": false,
   "sideBar": true,
   "threshold": 4,
   "toc_cell": true,
   "toc_section_display": "block",
   "toc_window_display": false,
   "widenNotebook": false
  }
 },
 "nbformat": 4,
 "nbformat_minor": 2
}
