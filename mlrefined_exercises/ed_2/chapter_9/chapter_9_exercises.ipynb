{
 "cells": [
  {
   "cell_type": "markdown",
   "metadata": {
    "toc": "true"
   },
   "source": [
    "# Table of Contents\n",
    " <p><div class=\"lev1 toc-item\"><a href=\"#Exercise-9.1.-Spam-email\" data-toc-modified-id=\"Exercise-9.1.-Spam-email-1\"><span class=\"toc-item-num\">1&nbsp;&nbsp;</span>Exercise 9.1. Spam email</a></div><div class=\"lev1 toc-item\"><a href=\"#Exercise-9.2.-MNIST-classification:-pixels-vs-edge-based-features\" data-toc-modified-id=\"Exercise-9.2.-MNIST-classification:-pixels-vs-edge-based-features-2\"><span class=\"toc-item-num\">2&nbsp;&nbsp;</span>Exercise 9.2. MNIST classification: pixels vs edge-based features</a></div><div class=\"lev1 toc-item\"><a href=\"#Exercise-9.3.-Student-debt\" data-toc-modified-id=\"Exercise-9.3.-Student-debt-3\"><span class=\"toc-item-num\">3&nbsp;&nbsp;</span>Exercise 9.3. Student debt</a></div><div class=\"lev1 toc-item\"><a href=\"#Exercise-9.5.-Breast-cancer-dataset\" data-toc-modified-id=\"Exercise-9.5.-Breast-cancer-dataset-4\"><span class=\"toc-item-num\">4&nbsp;&nbsp;</span>Exercise 9.5. Breast cancer dataset</a></div><div class=\"lev1 toc-item\"><a href=\"#Exercise-9.7.-Comparing-standard-normalization-to-PCA-sphering-on-MNIST\" data-toc-modified-id=\"Exercise-9.7.-Comparing-standard-normalization-to-PCA-sphering-on-MNIST-5\"><span class=\"toc-item-num\">5&nbsp;&nbsp;</span>Exercise 9.7. Comparing standard normalization to PCA sphering on MNIST</a></div><div class=\"lev1 toc-item\"><a href=\"#Exercise-9.9.-Exploring-predictors-of-housing-prices\" data-toc-modified-id=\"Exercise-9.9.-Exploring-predictors-of-housing-prices-6\"><span class=\"toc-item-num\">6&nbsp;&nbsp;</span>Exercise 9.9. Exploring predictors of housing prices</a></div><div class=\"lev1 toc-item\"><a href=\"#Exericise-9.10.-Predicting-Miles-per-Gallon-in-automobiles\" data-toc-modified-id=\"Exericise-9.10.-Predicting-Miles-per-Gallon-in-automobiles-7\"><span class=\"toc-item-num\">7&nbsp;&nbsp;</span>Exericise 9.10. Predicting Miles-per-Gallon in automobiles</a></div><div class=\"lev1 toc-item\"><a href=\"#Exercise-9.11.--Studying-important-predictors-of-credit-risk\" data-toc-modified-id=\"Exercise-9.11.--Studying-important-predictors-of-credit-risk-8\"><span class=\"toc-item-num\">8&nbsp;&nbsp;</span>Exercise 9.11.  Studying important predictors of credit risk</a></div><div class=\"lev1 toc-item\"><a href=\"#Exercise-9.12.--Exploring-predictors-of-housing-prices\" data-toc-modified-id=\"Exercise-9.12.--Exploring-predictors-of-housing-prices-9\"><span class=\"toc-item-num\">9&nbsp;&nbsp;</span>Exercise 9.12.  Exploring predictors of housing prices</a></div><div class=\"lev1 toc-item\"><a href=\"#Exercise-9.13.-Studying-important-predictors-of-credit-risk\" data-toc-modified-id=\"Exercise-9.13.-Studying-important-predictors-of-credit-risk-10\"><span class=\"toc-item-num\">10&nbsp;&nbsp;</span>Exercise 9.13. Studying important predictors of credit risk</a></div>"
   ]
  },
  {
   "cell_type": "code",
   "execution_count": 1,
   "metadata": {},
   "outputs": [],
   "source": [
    "# import autograd-wrapped numpy\n",
    "import autograd.numpy as np\n",
    "\n",
    "# datapath to data\n",
    "datapath = '../mlrefined_datasets/superlearn_datasets/'"
   ]
  },
  {
   "cell_type": "markdown",
   "metadata": {},
   "source": [
    "# Exercise 9.1. Spam email"
   ]
  },
  {
   "cell_type": "markdown",
   "metadata": {},
   "source": [
    "This dataset can be downloaded via the link below \n",
    "\n",
    "\n",
    "```https://archive.ics.uci.edu/ml/datasets/Spambase```"
   ]
  },
  {
   "cell_type": "code",
   "execution_count": 2,
   "metadata": {},
   "outputs": [
    {
     "name": "stdout",
     "output_type": "stream",
     "text": [
      "(57, 4601)\n",
      "(1, 4601)\n"
     ]
    }
   ],
   "source": [
    "# load data\n",
    "data = np.loadtxt(datapath + 'spambase_data.csv', delimiter = ',')\n",
    "x_orig = data[:-1,:]\n",
    "y = data[-1:,:] \n",
    "\n",
    "print(np.shape(x_orig))\n",
    "print(np.shape(y))"
   ]
  },
  {
   "cell_type": "markdown",
   "metadata": {},
   "source": [
    "# Exercise 9.2. MNIST classification: pixels vs edge-based features"
   ]
  },
  {
   "cell_type": "code",
   "execution_count": 3,
   "metadata": {},
   "outputs": [
    {
     "name": "stdout",
     "output_type": "stream",
     "text": [
      "(784, 70000)\n",
      "(1, 70000)\n"
     ]
    }
   ],
   "source": [
    "from sklearn.datasets import fetch_openml\n",
    "# import MNIST\n",
    "x, y = fetch_openml('mnist_784', version=1, return_X_y=True)\n",
    "\n",
    "# re-shape input/output data\n",
    "x = x.T\n",
    "y = np.array([int(v) for v in y])[np.newaxis,:]\n",
    "\n",
    "print(np.shape(x))\n",
    "print(np.shape(y))"
   ]
  },
  {
   "cell_type": "markdown",
   "metadata": {},
   "source": [
    "# Exercise 9.3. Student debt"
   ]
  },
  {
   "cell_type": "code",
   "execution_count": 4,
   "metadata": {},
   "outputs": [
    {
     "name": "stdout",
     "output_type": "stream",
     "text": [
      "(1, 40)\n",
      "(1, 40)\n"
     ]
    }
   ],
   "source": [
    "# load data\n",
    "data = np.loadtxt(datapath + 'student_debt.csv', delimiter = ',')\n",
    "x = data[:-1,:]\n",
    "y = data[-1:,:] \n",
    "\n",
    "print(np.shape(x))\n",
    "print(np.shape(y))"
   ]
  },
  {
   "cell_type": "markdown",
   "metadata": {
    "collapsed": true
   },
   "source": [
    "# Exercise 9.5. Breast cancer dataset"
   ]
  },
  {
   "cell_type": "markdown",
   "metadata": {},
   "source": [
    "The dataset loaded in below can also be found via the following link\n",
    "\n",
    "```https://archive.ics.uci.edu/ml/datasets/Breast+Cancer+Wisconsin+(Diagnostic)```"
   ]
  },
  {
   "cell_type": "code",
   "execution_count": 5,
   "metadata": {},
   "outputs": [
    {
     "name": "stdout",
     "output_type": "stream",
     "text": [
      "(699, 10)\n",
      "(699, 1)\n"
     ]
    }
   ],
   "source": [
    "# load in original breast cancer dataset\n",
    "import pandas as pd\n",
    "data = np.array(pd.read_csv(datapath + 'breast_cancer_original.txt', header = None))\n",
    "\n",
    "# cut into input/output pairs\n",
    "x = data[:,:-1]\n",
    "y = data[:,-1:]\n",
    "\n",
    "print(np.shape(x))\n",
    "print(np.shape(y))"
   ]
  },
  {
   "cell_type": "markdown",
   "metadata": {
    "collapsed": true
   },
   "source": [
    "# Exercise 9.7. Comparing standard normalization to PCA sphering on MNIST"
   ]
  },
  {
   "cell_type": "code",
   "execution_count": 6,
   "metadata": {},
   "outputs": [
    {
     "name": "stdout",
     "output_type": "stream",
     "text": [
      "(784, 70000)\n",
      "(1, 70000)\n"
     ]
    }
   ],
   "source": [
    "from sklearn.datasets import fetch_openml\n",
    "# import MNIST\n",
    "x, y = fetch_openml('mnist_784', version=1, return_X_y=True)\n",
    "\n",
    "# re-shape input/output data\n",
    "x = x.T\n",
    "y = np.array([int(v) for v in y])[np.newaxis,:]\n",
    "\n",
    "print(np.shape(x))\n",
    "print(np.shape(y))"
   ]
  },
  {
   "cell_type": "markdown",
   "metadata": {},
   "source": [
    "# Exercise 9.9. Exploring predictors of housing prices"
   ]
  },
  {
   "cell_type": "code",
   "execution_count": 7,
   "metadata": {},
   "outputs": [
    {
     "name": "stdout",
     "output_type": "stream",
     "text": [
      "(13, 506)\n",
      "(1, 506)\n"
     ]
    }
   ],
   "source": [
    "# load in data\n",
    "csvname =  datapath + 'boston_housing.csv'\n",
    "data = np.loadtxt(csvname, delimiter = ',')\n",
    "x = data[:-1,:]\n",
    "y = data[-1:,:] \n",
    "\n",
    "print(np.shape(x))\n",
    "print(np.shape(y))"
   ]
  },
  {
   "cell_type": "markdown",
   "metadata": {},
   "source": [
    "# Exericise 9.10. Predicting Miles-per-Gallon in automobiles"
   ]
  },
  {
   "cell_type": "code",
   "execution_count": 8,
   "metadata": {},
   "outputs": [
    {
     "name": "stdout",
     "output_type": "stream",
     "text": [
      "(6, 398)\n",
      "(1, 398)\n"
     ]
    }
   ],
   "source": [
    "# load in data\n",
    "csvname =  datapath + 'auto_data.csv'\n",
    "data = np.loadtxt(csvname, delimiter = ',')\n",
    "x = data[:-2,:]\n",
    "y = data[-1:,:] \n",
    "\n",
    "print(np.shape(x))\n",
    "print(np.shape(y))"
   ]
  },
  {
   "cell_type": "markdown",
   "metadata": {
    "collapsed": true
   },
   "source": [
    "# Exercise 9.11.  Studying important predictors of credit risk"
   ]
  },
  {
   "cell_type": "code",
   "execution_count": 9,
   "metadata": {},
   "outputs": [
    {
     "name": "stdout",
     "output_type": "stream",
     "text": [
      "(20, 1000)\n",
      "(1, 1000)\n"
     ]
    }
   ],
   "source": [
    "# load in dataset\n",
    "csvname = datapath + 'credit_dataset.csv'\n",
    "data = np.loadtxt(csvname, delimiter = ',')\n",
    "x = data[:-1,:]\n",
    "y = data[-1:,:] \n",
    "\n",
    "print(np.shape(x))\n",
    "print(np.shape(y))"
   ]
  },
  {
   "cell_type": "markdown",
   "metadata": {},
   "source": [
    "# Exercise 9.12.  Exploring predictors of housing prices"
   ]
  },
  {
   "cell_type": "code",
   "execution_count": 10,
   "metadata": {},
   "outputs": [
    {
     "name": "stdout",
     "output_type": "stream",
     "text": [
      "(13, 506)\n",
      "(1, 506)\n"
     ]
    }
   ],
   "source": [
    "# load in data\n",
    "csvname =  datapath + 'boston_housing.csv'\n",
    "data = np.loadtxt(csvname, delimiter = ',')\n",
    "x = data[:-1,:]\n",
    "y = data[-1:,:] \n",
    "\n",
    "print(np.shape(x))\n",
    "print(np.shape(y))"
   ]
  },
  {
   "cell_type": "markdown",
   "metadata": {},
   "source": [
    "# Exercise 9.13. Studying important predictors of credit risk"
   ]
  },
  {
   "cell_type": "code",
   "execution_count": 11,
   "metadata": {},
   "outputs": [
    {
     "name": "stdout",
     "output_type": "stream",
     "text": [
      "(20, 1000)\n",
      "(1, 1000)\n"
     ]
    }
   ],
   "source": [
    "# load in dataset\n",
    "csvname = datapath + 'credit_dataset.csv'\n",
    "data = np.loadtxt(csvname, delimiter = ',')\n",
    "x = data[:-1,:]\n",
    "y = data[-1:,:] \n",
    "\n",
    "print(np.shape(x))\n",
    "print(np.shape(y))"
   ]
  }
 ],
 "metadata": {
  "anaconda-cloud": {},
  "kernelspec": {
   "display_name": "Python 3",
   "language": "python",
   "name": "python3"
  },
  "language_info": {
   "codemirror_mode": {
    "name": "ipython",
    "version": 3
   },
   "file_extension": ".py",
   "mimetype": "text/x-python",
   "name": "python",
   "nbconvert_exporter": "python",
   "pygments_lexer": "ipython3",
   "version": "3.6.6"
  },
  "toc": {
   "colors": {
    "hover_highlight": "#DAA520",
    "navigate_num": "#000000",
    "navigate_text": "#333333",
    "running_highlight": "#FF0000",
    "selected_highlight": "#FFD700",
    "sidebar_border": "#EEEEEE",
    "wrapper_background": "#FFFFFF"
   },
   "moveMenuLeft": true,
   "nav_menu": {
    "height": "234.8px",
    "width": "252px"
   },
   "navigate_menu": true,
   "number_sections": false,
   "sideBar": true,
   "threshold": 4,
   "toc_cell": true,
   "toc_section_display": "block",
   "toc_window_display": false,
   "widenNotebook": false
  },
  "widgets": {
   "application/vnd.jupyter.widget-state+json": {
    "state": {},
    "version_major": 2,
    "version_minor": 0
   }
  }
 },
 "nbformat": 4,
 "nbformat_minor": 1
}
